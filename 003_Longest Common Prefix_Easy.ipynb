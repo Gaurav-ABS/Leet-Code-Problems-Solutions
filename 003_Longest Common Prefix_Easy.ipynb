{
 "cells": [
  {
   "cell_type": "markdown",
   "id": "537f3e7f",
   "metadata": {},
   "source": [
    "# Longest Common Prefix\n",
    "\n",
    "- Problem Description on Leetcode\n",
    "\n",
    "  <a href =\"https://leetcode.com/longest-common-prefix/\" > Longest Comon Prefix </a>"
   ]
  },
  {
   "cell_type": "markdown",
   "id": "d6d7004d",
   "metadata": {},
   "source": [
    "- Method 1:"
   ]
  },
  {
   "cell_type": "code",
   "execution_count": null,
   "id": "8b2aae47",
   "metadata": {},
   "outputs": [],
   "source": [
    "# We will compare first alphabet of all words and then the second and so forth\n",
    "\n",
    "# We will iterate intill all the alphabets of the smallest word are covered"
   ]
  },
  {
   "cell_type": "code",
   "execution_count": 76,
   "id": "5813b3ac",
   "metadata": {},
   "outputs": [
    {
     "name": "stdout",
     "output_type": "stream",
     "text": [
      "minimun lenght is: 6\n",
      "Cond 1 =  True Cond 2 =  True\n",
      "j = 0\n",
      "i = 0\n",
      "f\n",
      "f\n",
      "Matching\n",
      "--------\n",
      "j = 0\n",
      "i = 1\n",
      "f\n",
      "f\n",
      "Matching\n",
      "--------\n",
      "Cond 1 =  True Cond 2 =  True\n",
      "j = 1\n",
      "i = 0\n",
      "l\n",
      "l\n",
      "Matching\n",
      "--------\n",
      "j = 1\n",
      "i = 1\n",
      "l\n",
      "l\n",
      "Matching\n",
      "--------\n",
      "Cond 1 =  True Cond 2 =  True\n",
      "j = 2\n",
      "i = 0\n",
      "o\n",
      "o\n",
      "Matching\n",
      "--------\n",
      "j = 2\n",
      "i = 1\n",
      "o\n",
      "o\n",
      "Matching\n",
      "--------\n",
      "Cond 1 =  True Cond 2 =  True\n",
      "j = 3\n",
      "i = 0\n",
      "w\n",
      "w\n",
      "Matching\n",
      "--------\n",
      "j = 3\n",
      "i = 1\n",
      "w\n",
      "a\n",
      "Not Matching\n",
      "---------\n",
      "Longest matching prefix = flo\n"
     ]
    }
   ],
   "source": [
    "\n",
    "# Input strings as a List\n",
    "wrd_lst = [\"flower\",\"flower\",\"floating\"]\n",
    "\n",
    "\n",
    "\n",
    "# Identifying the minimun length of given strings\n",
    "len_each_wrd=list()\n",
    "\n",
    "for wrd in wrd_lst:\n",
    "    len_each_wrd.append(len(wrd))\n",
    "\n",
    "min_len_wrd=min(len_each_wrd)\n",
    "print('minimun lenght is:', min_len_wrd)\n",
    "\n",
    "\n",
    "\n",
    "# Initialising variables for iterating through the words and respective alphabets\n",
    "# j will represent the Alphabets inside the words\n",
    "# i will represent the Words\n",
    "\n",
    "j=-1\n",
    "i=0\n",
    "mtchng=True\n",
    "\n",
    "while mtchng and j < min_len_wrd-1:\n",
    "    j=j+1\n",
    "    print('Cond 1 = ',mtchng,  'Cond 2 = ',j < min_len_wrd)\n",
    "    for i in range(len(wrd_lst)-1):\n",
    "        print('j =',j)\n",
    "        print('i =', i)\n",
    "        print(wrd_lst[i][j])\n",
    "        print(wrd_lst[i+1][j])\n",
    "        if wrd_lst[i][j]==wrd_lst[i+1][j]:\n",
    "            print('Matching')\n",
    "            print('--------')\n",
    "            continue   \n",
    "        else: \n",
    "            print('Not Matching')\n",
    "            print('---------')\n",
    "            j=j-1\n",
    "            mtchng = False\n",
    "\n",
    "print('Longest matching prefix =', wrd_lst[0][0:j+1])\n",
    "   \n",
    "\n",
    "        \n",
    "\n",
    "\n",
    "    \n",
    "    \n",
    "            "
   ]
  },
  {
   "cell_type": "code",
   "execution_count": null,
   "id": "0f4ad15a",
   "metadata": {},
   "outputs": [],
   "source": []
  },
  {
   "cell_type": "code",
   "execution_count": null,
   "id": "9b872816",
   "metadata": {},
   "outputs": [],
   "source": []
  },
  {
   "cell_type": "code",
   "execution_count": null,
   "id": "65053808",
   "metadata": {},
   "outputs": [],
   "source": []
  },
  {
   "cell_type": "code",
   "execution_count": null,
   "id": "08d4d044",
   "metadata": {},
   "outputs": [],
   "source": []
  },
  {
   "cell_type": "code",
   "execution_count": null,
   "id": "500c6459",
   "metadata": {},
   "outputs": [],
   "source": []
  },
  {
   "cell_type": "code",
   "execution_count": null,
   "id": "8ebe0ff0",
   "metadata": {},
   "outputs": [],
   "source": []
  }
 ],
 "metadata": {
  "kernelspec": {
   "display_name": "Python 3",
   "language": "python",
   "name": "python3"
  },
  "language_info": {
   "codemirror_mode": {
    "name": "ipython",
    "version": 3
   },
   "file_extension": ".py",
   "mimetype": "text/x-python",
   "name": "python",
   "nbconvert_exporter": "python",
   "pygments_lexer": "ipython3",
   "version": "3.8.8"
  }
 },
 "nbformat": 4,
 "nbformat_minor": 5
}
