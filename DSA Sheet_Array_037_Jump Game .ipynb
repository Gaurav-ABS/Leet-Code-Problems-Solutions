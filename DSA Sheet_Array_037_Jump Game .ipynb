{
 "cells": [
  {
   "cell_type": "code",
   "execution_count": 9,
   "id": "006086cb",
   "metadata": {},
   "outputs": [],
   "source": [
    "\n",
    "def canJump(nums):\n",
    "    i = 0 \n",
    "    reach = 0 \n",
    "    \n",
    "    while i < len(nums) and i <= reach: \n",
    "        reach = max(reach, i + nums[i])\n",
    "        i += 1\n",
    "\n",
    "    return i == len(nums)\n"
   ]
  },
  {
   "cell_type": "code",
   "execution_count": 10,
   "id": "60cdff7e",
   "metadata": {},
   "outputs": [
    {
     "data": {
      "text/plain": [
       "False"
      ]
     },
     "execution_count": 10,
     "metadata": {},
     "output_type": "execute_result"
    }
   ],
   "source": [
    "canJump([3,2,1,0,4])"
   ]
  },
  {
   "cell_type": "code",
   "execution_count": 11,
   "id": "1e5be505",
   "metadata": {},
   "outputs": [
    {
     "data": {
      "text/plain": [
       "True"
      ]
     },
     "execution_count": 11,
     "metadata": {},
     "output_type": "execute_result"
    }
   ],
   "source": [
    "canJump([3,2,1,1,4])"
   ]
  },
  {
   "cell_type": "code",
   "execution_count": 12,
   "id": "5914f797",
   "metadata": {},
   "outputs": [
    {
     "data": {
      "text/plain": [
       "True"
      ]
     },
     "execution_count": 12,
     "metadata": {},
     "output_type": "execute_result"
    }
   ],
   "source": [
    "\n",
    "canJump([3,0,1,1,4])"
   ]
  },
  {
   "cell_type": "code",
   "execution_count": null,
   "id": "4cda763f",
   "metadata": {},
   "outputs": [],
   "source": [
    "# this is the greedy solution Linear Time No extra memory \n",
    "\n",
    "def canJump(nums):\n",
    "    goal_post = len(nums) - 1\n",
    "    \n",
    "    for i in range(Len(nums)-1, -1, -1 ): #reverse loop\n",
    "        if i+nums[i] >= goal_post: # if we can reach the goal post\n",
    "            goal_post = i # shift the goal post\n",
    "            \n",
    "    return True if goal_post == 0 else False\n",
    "        "
   ]
  }
 ],
 "metadata": {
  "kernelspec": {
   "display_name": "Python 3 (ipykernel)",
   "language": "python",
   "name": "python3"
  },
  "language_info": {
   "codemirror_mode": {
    "name": "ipython",
    "version": 3
   },
   "file_extension": ".py",
   "mimetype": "text/x-python",
   "name": "python",
   "nbconvert_exporter": "python",
   "pygments_lexer": "ipython3",
   "version": "3.7.0"
  }
 },
 "nbformat": 4,
 "nbformat_minor": 5
}
