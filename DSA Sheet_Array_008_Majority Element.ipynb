{
 "cells": [
  {
   "cell_type": "code",
   "execution_count": 8,
   "id": "cc850932",
   "metadata": {},
   "outputs": [],
   "source": [
    "# method 1 ::::: unordered map implemented using dictionary\n",
    "\n",
    "# we are keeping count of all the elements \n",
    "\n",
    "\n",
    "def majorityElement(nums):\n",
    "    \n",
    "    elementCount = dict()\n",
    "    \n",
    "    for i in range(len(nums)):\n",
    "        \n",
    "        if nums[i] in elementCount:\n",
    "            elementCount[nums[i]] = elementCount[nums[i]] + 1\n",
    "            print (elementCount)\n",
    "            \n",
    "            if elementCount[nums[i]] > len(nums)/2:\n",
    "                print ('majorityElement ===' , nums[i])\n",
    "                return [nums[i]]\n",
    "        else:\n",
    "            elementCount[nums[i]] = 1\n",
    "            print (elementCount)\n",
    "            \n",
    "    \n",
    "    "
   ]
  },
  {
   "cell_type": "code",
   "execution_count": 9,
   "id": "5b7025d8",
   "metadata": {},
   "outputs": [
    {
     "name": "stdout",
     "output_type": "stream",
     "text": [
      "{2: 1}\n",
      "{2: 2}\n",
      "{2: 2, 1: 1}\n",
      "{2: 2, 1: 2}\n",
      "{2: 2, 1: 3}\n",
      "{2: 3, 1: 3}\n",
      "{2: 4, 1: 3}\n",
      "majorityElement === 2\n"
     ]
    },
    {
     "data": {
      "text/plain": [
       "[2]"
      ]
     },
     "execution_count": 9,
     "metadata": {},
     "output_type": "execute_result"
    }
   ],
   "source": [
    "majorityElement([2,2,1,1,1,2,2])"
   ]
  },
  {
   "cell_type": "code",
   "execution_count": 31,
   "id": "18e70e74",
   "metadata": {},
   "outputs": [],
   "source": [
    "# method 2 ::::: we sort the array\n",
    "\n",
    "# since majority element is guaranteed thus the total number of elements is odd and majority elemenet exists (n/2)+1 times\n",
    "\n",
    "# after sorting the majority element will be the middle element of the array\n",
    "\n",
    "def majorityElement(nums):\n",
    "    \n",
    "    nums.sort()\n",
    "    print(nums)\n",
    "    \n",
    "    print ( nums[(len(nums)-1) //2])"
   ]
  },
  {
   "cell_type": "code",
   "execution_count": 32,
   "id": "5922f09a",
   "metadata": {},
   "outputs": [
    {
     "name": "stdout",
     "output_type": "stream",
     "text": [
      "[1, 1, 1, 2, 2, 2, 2]\n",
      "2\n"
     ]
    }
   ],
   "source": [
    "majorityElement([2,2,1,1,1,2,2])"
   ]
  },
  {
   "cell_type": "code",
   "execution_count": 35,
   "id": "de112efa",
   "metadata": {},
   "outputs": [],
   "source": [
    "# method 3 :::: Boyer Moore Algorithm\n",
    "\n",
    "def majorityElement(nums):\n",
    "    \n",
    "    c = 0\n",
    "    v = 0\n",
    "    \n",
    "    for i in nums:\n",
    "        if v == 0:\n",
    "            c = i\n",
    "        \n",
    "        if c == i: \n",
    "            v = v+1\n",
    "        else:\n",
    "            v = v-1\n",
    "            \n",
    "    return c"
   ]
  },
  {
   "cell_type": "code",
   "execution_count": 34,
   "id": "caffbe83",
   "metadata": {},
   "outputs": [
    {
     "data": {
      "text/plain": [
       "2"
      ]
     },
     "execution_count": 34,
     "metadata": {},
     "output_type": "execute_result"
    }
   ],
   "source": [
    "majorityElement([2,2,1,1,1,2,2])"
   ]
  },
  {
   "cell_type": "code",
   "execution_count": 37,
   "id": "6816cbb2",
   "metadata": {},
   "outputs": [
    {
     "data": {
      "text/plain": [
       "3"
      ]
     },
     "execution_count": 37,
     "metadata": {},
     "output_type": "execute_result"
    }
   ],
   "source": [
    "majorityElement([3,2,3])"
   ]
  },
  {
   "cell_type": "code",
   "execution_count": null,
   "id": "e4b28abc",
   "metadata": {},
   "outputs": [],
   "source": []
  }
 ],
 "metadata": {
  "kernelspec": {
   "display_name": "Python 3",
   "language": "python",
   "name": "python3"
  },
  "language_info": {
   "codemirror_mode": {
    "name": "ipython",
    "version": 3
   },
   "file_extension": ".py",
   "mimetype": "text/x-python",
   "name": "python",
   "nbconvert_exporter": "python",
   "pygments_lexer": "ipython3",
   "version": "3.8.8"
  }
 },
 "nbformat": 4,
 "nbformat_minor": 5
}
