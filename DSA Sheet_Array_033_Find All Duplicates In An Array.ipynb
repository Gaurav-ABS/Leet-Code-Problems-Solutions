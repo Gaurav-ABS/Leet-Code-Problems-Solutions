{
 "cells": [
  {
   "cell_type": "code",
   "execution_count": 1,
   "id": "400deb53",
   "metadata": {},
   "outputs": [],
   "source": [
    "# Hash Map implementation\n",
    "# But extra space needed\n",
    "\n",
    "def AllDuplicates(nums):\n",
    "    seen = dict()\n",
    "    res = list()\n",
    "    for i in range(len(nums)):\n",
    "        if nums[i] in seen:\n",
    "            res.append(nums[i]) \n",
    "        else:\n",
    "            seen[nums[i]] = 1\n",
    "    return(res)"
   ]
  },
  {
   "cell_type": "code",
   "execution_count": 2,
   "id": "6c949146",
   "metadata": {},
   "outputs": [
    {
     "data": {
      "text/plain": [
       "[4, 7, 2]"
      ]
     },
     "execution_count": 2,
     "metadata": {},
     "output_type": "execute_result"
    }
   ],
   "source": [
    "AllDuplicates([1,2,3,4,4,5,6,7,7,2,8])"
   ]
  },
  {
   "cell_type": "code",
   "execution_count": 5,
   "id": "0517c76f",
   "metadata": {},
   "outputs": [],
   "source": [
    "# Constant Space (ie No extra Space)\n",
    "# The Arrray that is needed to return the output is not \n",
    "# considered as addiditional space\n",
    "\n",
    "\n",
    "def All_Duplicates(nums):\n",
    "    res = list()\n",
    "    for i in range(len(nums)):\n",
    "        next_index = nums[i] - 1\n",
    "        if nums[next_index]<0:\n",
    "            res.append(nums[i])\n",
    "        nums[next_index] = - nums[next_index]\n",
    "    return(res)"
   ]
  },
  {
   "cell_type": "code",
   "execution_count": 6,
   "id": "9c70fe60",
   "metadata": {},
   "outputs": [
    {
     "data": {
      "text/plain": [
       "[4, 7, 2]"
      ]
     },
     "execution_count": 6,
     "metadata": {},
     "output_type": "execute_result"
    }
   ],
   "source": [
    "All_Duplicates([1,2,3,4,4,5,6,7,7,2,8])"
   ]
  },
  {
   "cell_type": "code",
   "execution_count": 7,
   "id": "620705d5",
   "metadata": {},
   "outputs": [
    {
     "data": {
      "text/plain": [
       "[1]"
      ]
     },
     "execution_count": 7,
     "metadata": {},
     "output_type": "execute_result"
    }
   ],
   "source": [
    "All_Duplicates([1,1,2])"
   ]
  },
  {
   "cell_type": "code",
   "execution_count": 8,
   "id": "09227445",
   "metadata": {},
   "outputs": [
    {
     "data": {
      "text/plain": [
       "[]"
      ]
     },
     "execution_count": 8,
     "metadata": {},
     "output_type": "execute_result"
    }
   ],
   "source": [
    "All_Duplicates([1,2,3])"
   ]
  },
  {
   "cell_type": "code",
   "execution_count": null,
   "id": "f985a287",
   "metadata": {},
   "outputs": [],
   "source": []
  }
 ],
 "metadata": {
  "kernelspec": {
   "display_name": "Python 3",
   "language": "python",
   "name": "python3"
  },
  "language_info": {
   "codemirror_mode": {
    "name": "ipython",
    "version": 3
   },
   "file_extension": ".py",
   "mimetype": "text/x-python",
   "name": "python",
   "nbconvert_exporter": "python",
   "pygments_lexer": "ipython3",
   "version": "3.8.8"
  }
 },
 "nbformat": 4,
 "nbformat_minor": 5
}
