{
 "cells": [
  {
   "cell_type": "code",
   "execution_count": 9,
   "id": "93fdb15f",
   "metadata": {},
   "outputs": [],
   "source": [
    "# brute force O(n2)\n",
    "\n",
    "def container(array):\n",
    "    \n",
    "    height=0\n",
    "    width=0\n",
    "    area=0\n",
    "    \n",
    "    \n",
    "    for i in range(len(array)):\n",
    "        for j in range(i+1,len(array)):\n",
    "\n",
    "            height = min(array[i],array[j])\n",
    "            print('height',height)\n",
    "            width= j - i\n",
    "            print('width',width)\n",
    "            area = max(area,(height*width))\n",
    "            print('area', area)\n",
    "            print('__________________')\n",
    "    \n",
    "    return (area)\n",
    "        "
   ]
  },
  {
   "cell_type": "code",
   "execution_count": 10,
   "id": "309ae1bb",
   "metadata": {},
   "outputs": [
    {
     "name": "stdout",
     "output_type": "stream",
     "text": [
      "height 1\n",
      "width 1\n",
      "area 1\n",
      "__________________\n",
      "height 1\n",
      "width 2\n",
      "area 2\n",
      "__________________\n",
      "height 1\n",
      "width 3\n",
      "area 3\n",
      "__________________\n",
      "height 1\n",
      "width 4\n",
      "area 4\n",
      "__________________\n",
      "height 1\n",
      "width 5\n",
      "area 5\n",
      "__________________\n",
      "height 1\n",
      "width 6\n",
      "area 6\n",
      "__________________\n",
      "height 1\n",
      "width 7\n",
      "area 7\n",
      "__________________\n",
      "height 1\n",
      "width 8\n",
      "area 8\n",
      "__________________\n",
      "height 6\n",
      "width 1\n",
      "area 8\n",
      "__________________\n",
      "height 2\n",
      "width 2\n",
      "area 8\n",
      "__________________\n",
      "height 5\n",
      "width 3\n",
      "area 15\n",
      "__________________\n",
      "height 4\n",
      "width 4\n",
      "area 16\n",
      "__________________\n",
      "height 8\n",
      "width 5\n",
      "area 40\n",
      "__________________\n",
      "height 3\n",
      "width 6\n",
      "area 40\n",
      "__________________\n",
      "height 7\n",
      "width 7\n",
      "area 49\n",
      "__________________\n",
      "height 2\n",
      "width 1\n",
      "area 49\n",
      "__________________\n",
      "height 5\n",
      "width 2\n",
      "area 49\n",
      "__________________\n",
      "height 4\n",
      "width 3\n",
      "area 49\n",
      "__________________\n",
      "height 6\n",
      "width 4\n",
      "area 49\n",
      "__________________\n",
      "height 3\n",
      "width 5\n",
      "area 49\n",
      "__________________\n",
      "height 6\n",
      "width 6\n",
      "area 49\n",
      "__________________\n",
      "height 2\n",
      "width 1\n",
      "area 49\n",
      "__________________\n",
      "height 2\n",
      "width 2\n",
      "area 49\n",
      "__________________\n",
      "height 2\n",
      "width 3\n",
      "area 49\n",
      "__________________\n",
      "height 2\n",
      "width 4\n",
      "area 49\n",
      "__________________\n",
      "height 2\n",
      "width 5\n",
      "area 49\n",
      "__________________\n",
      "height 4\n",
      "width 1\n",
      "area 49\n",
      "__________________\n",
      "height 5\n",
      "width 2\n",
      "area 49\n",
      "__________________\n",
      "height 3\n",
      "width 3\n",
      "area 49\n",
      "__________________\n",
      "height 5\n",
      "width 4\n",
      "area 49\n",
      "__________________\n",
      "height 4\n",
      "width 1\n",
      "area 49\n",
      "__________________\n",
      "height 3\n",
      "width 2\n",
      "area 49\n",
      "__________________\n",
      "height 4\n",
      "width 3\n",
      "area 49\n",
      "__________________\n",
      "height 3\n",
      "width 1\n",
      "area 49\n",
      "__________________\n",
      "height 7\n",
      "width 2\n",
      "area 49\n",
      "__________________\n",
      "height 3\n",
      "width 1\n",
      "area 49\n",
      "__________________\n"
     ]
    },
    {
     "data": {
      "text/plain": [
       "49"
      ]
     },
     "execution_count": 10,
     "metadata": {},
     "output_type": "execute_result"
    }
   ],
   "source": [
    "container([1,8,6,2,5,4,8,3,7])"
   ]
  },
  {
   "cell_type": "code",
   "execution_count": 11,
   "id": "64f343f3",
   "metadata": {},
   "outputs": [
    {
     "name": "stdout",
     "output_type": "stream",
     "text": [
      "height 1\n",
      "width 1\n",
      "area 1\n",
      "__________________\n"
     ]
    },
    {
     "data": {
      "text/plain": [
       "1"
      ]
     },
     "execution_count": 11,
     "metadata": {},
     "output_type": "execute_result"
    }
   ],
   "source": [
    "container([1,1])"
   ]
  },
  {
   "cell_type": "code",
   "execution_count": 15,
   "id": "412654fb",
   "metadata": {},
   "outputs": [],
   "source": [
    "# two pointer method O(n)\n",
    "\n",
    "def container(height):\n",
    "    \n",
    "    res =0\n",
    "    l,r=0,len(height)-1\n",
    "\n",
    "    while l < r:\n",
    "        area = (r-l) * min(height[l],height[r])\n",
    "        res= max(res,area)\n",
    "\n",
    "        if height[l] < height[r]:\n",
    "            l = l+1\n",
    "        else:\n",
    "            r = r-1\n",
    "\n",
    "    return(res)\n",
    " \n",
    "        "
   ]
  },
  {
   "cell_type": "code",
   "execution_count": 16,
   "id": "d714024a",
   "metadata": {},
   "outputs": [
    {
     "data": {
      "text/plain": [
       "49"
      ]
     },
     "execution_count": 16,
     "metadata": {},
     "output_type": "execute_result"
    }
   ],
   "source": [
    "container([1,8,6,2,5,4,8,3,7])"
   ]
  },
  {
   "cell_type": "code",
   "execution_count": 17,
   "id": "d15eb2ee",
   "metadata": {},
   "outputs": [
    {
     "data": {
      "text/plain": [
       "1"
      ]
     },
     "execution_count": 17,
     "metadata": {},
     "output_type": "execute_result"
    }
   ],
   "source": [
    "container([1,1])"
   ]
  },
  {
   "cell_type": "code",
   "execution_count": null,
   "id": "3dea18ec",
   "metadata": {},
   "outputs": [],
   "source": []
  }
 ],
 "metadata": {
  "kernelspec": {
   "display_name": "Python 3",
   "language": "python",
   "name": "python3"
  },
  "language_info": {
   "codemirror_mode": {
    "name": "ipython",
    "version": 3
   },
   "file_extension": ".py",
   "mimetype": "text/x-python",
   "name": "python",
   "nbconvert_exporter": "python",
   "pygments_lexer": "ipython3",
   "version": "3.8.8"
  }
 },
 "nbformat": 4,
 "nbformat_minor": 5
}
