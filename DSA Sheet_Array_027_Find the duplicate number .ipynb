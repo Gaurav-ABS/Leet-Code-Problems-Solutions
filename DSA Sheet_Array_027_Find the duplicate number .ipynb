{
 "cells": [
  {
   "cell_type": "code",
   "execution_count": 5,
   "id": "576bba0f",
   "metadata": {},
   "outputs": [],
   "source": [
    "# implementing hash map using dictionary\n",
    "\n",
    "def FindDuplicate(nums):\n",
    "    seen = dict()\n",
    "    for i in range(len(nums)):\n",
    "        if nums[i] in seen:\n",
    "            return nums[i]\n",
    "        seen[nums[i]] = 1\n",
    "    "
   ]
  },
  {
   "cell_type": "code",
   "execution_count": 6,
   "id": "c9c61948",
   "metadata": {},
   "outputs": [
    {
     "data": {
      "text/plain": [
       "2"
      ]
     },
     "execution_count": 6,
     "metadata": {},
     "output_type": "execute_result"
    }
   ],
   "source": [
    "FindDuplicate([1,3,4,2,2])"
   ]
  },
  {
   "cell_type": "code",
   "execution_count": 7,
   "id": "f6f70185",
   "metadata": {},
   "outputs": [
    {
     "data": {
      "text/plain": [
       "90"
      ]
     },
     "execution_count": 7,
     "metadata": {},
     "output_type": "execute_result"
    }
   ],
   "source": [
    "FindDuplicate([4,5,6,2,90,90])"
   ]
  },
  {
   "cell_type": "code",
   "execution_count": 7,
   "id": "7917f817",
   "metadata": {},
   "outputs": [],
   "source": [
    "# implementing Floyd's Algorithm\n",
    "\n",
    "def findDuplicate(nums):\n",
    "    slow, fast = 0,0\n",
    "    while True:\n",
    "        slow = nums[slow]\n",
    "        fast = nums[nums[fast]]\n",
    "        if slow == fast:\n",
    "            break\n",
    "            \n",
    "    slow2 = 0\n",
    "    while True:\n",
    "        slow = nums[slow]\n",
    "        slow2 = nums[slow2]\n",
    "        if slow == slow2:\n",
    "            return slow\n",
    "        "
   ]
  },
  {
   "cell_type": "code",
   "execution_count": 8,
   "id": "b37500f3",
   "metadata": {},
   "outputs": [
    {
     "data": {
      "text/plain": [
       "2"
      ]
     },
     "execution_count": 8,
     "metadata": {},
     "output_type": "execute_result"
    }
   ],
   "source": [
    "findDuplicate([1,3,4,2,2])"
   ]
  },
  {
   "cell_type": "code",
   "execution_count": 10,
   "id": "47ec9acb",
   "metadata": {},
   "outputs": [
    {
     "data": {
      "text/plain": [
       "9"
      ]
     },
     "execution_count": 10,
     "metadata": {},
     "output_type": "execute_result"
    }
   ],
   "source": [
    "findDuplicate([1,2,3,4,5,6,7,8,9,9])"
   ]
  },
  {
   "cell_type": "code",
   "execution_count": null,
   "id": "162afee3",
   "metadata": {},
   "outputs": [],
   "source": []
  }
 ],
 "metadata": {
  "kernelspec": {
   "display_name": "Python 3",
   "language": "python",
   "name": "python3"
  },
  "language_info": {
   "codemirror_mode": {
    "name": "ipython",
    "version": 3
   },
   "file_extension": ".py",
   "mimetype": "text/x-python",
   "name": "python",
   "nbconvert_exporter": "python",
   "pygments_lexer": "ipython3",
   "version": "3.8.8"
  }
 },
 "nbformat": 4,
 "nbformat_minor": 5
}
