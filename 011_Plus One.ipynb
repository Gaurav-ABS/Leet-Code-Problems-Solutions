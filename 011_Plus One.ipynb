{
 "cells": [
  {
   "cell_type": "markdown",
   "id": "dcb57b58",
   "metadata": {},
   "source": [
    "# Plus One\n",
    "\n",
    "- Problem description on Leet Code\n",
    "\n",
    "    <a href =\"https://leetcode.com/problems/plus-one/\" > Plus One </a>"
   ]
  },
  {
   "cell_type": "markdown",
   "id": "a4cc2a07",
   "metadata": {},
   "source": [
    "- Method:"
   ]
  },
  {
   "cell_type": "code",
   "execution_count": 18,
   "id": "cb800769",
   "metadata": {},
   "outputs": [
    {
     "name": "stdout",
     "output_type": "stream",
     "text": [
      "100000\n",
      "120000\n",
      "123000\n",
      "123400\n",
      "123450\n",
      "123459\n",
      "_____________________________\n",
      "Original Array === [1, 2, 3, 4, 5, 9]\n",
      "Incremented Num === 123460\n",
      "_____________________________\n"
     ]
    },
    {
     "data": {
      "text/plain": [
       "['1', '2', '3', '4', '6', '0']"
      ]
     },
     "execution_count": 18,
     "metadata": {},
     "output_type": "execute_result"
    }
   ],
   "source": [
    "\n",
    "def increment(nums):\n",
    "    num = 0\n",
    "    for i in range(len(nums)):\n",
    "        num = num  + nums[i] * (10** (len(nums)-1-i))\n",
    "        print(num)\n",
    "     \n",
    "    print(\"_____________________________\")\n",
    "    print(\"Original Array ===\", nums)\n",
    "    print(\"Incremented Num ===\", num +1)  \n",
    "    print(\"_____________________________\")\n",
    "    \n",
    "    s = str(num+1)\n",
    "    \n",
    "    \n",
    "    return list(s)\n",
    "\n",
    "\n",
    "    \n",
    "    \n",
    "    \n",
    "increment([1,2,3,4,5,9])\n",
    "        "
   ]
  },
  {
   "cell_type": "code",
   "execution_count": 19,
   "id": "b40db62e",
   "metadata": {},
   "outputs": [
    {
     "name": "stdout",
     "output_type": "stream",
     "text": [
      "100000\n",
      "120000\n",
      "123000\n",
      "123400\n",
      "123490\n",
      "123499\n",
      "_____________________________\n",
      "Original Array === [1, 2, 3, 4, 9, 9]\n",
      "Incremented Num === 123500\n",
      "_____________________________\n"
     ]
    },
    {
     "data": {
      "text/plain": [
       "['1', '2', '3', '5', '0', '0']"
      ]
     },
     "execution_count": 19,
     "metadata": {},
     "output_type": "execute_result"
    }
   ],
   "source": [
    "increment([1,2,3,4,9,9])"
   ]
  },
  {
   "cell_type": "markdown",
   "id": "37b5ecee",
   "metadata": {},
   "source": [
    "- Method:"
   ]
  },
  {
   "cell_type": "code",
   "execution_count": 20,
   "id": "ed80193f",
   "metadata": {},
   "outputs": [
    {
     "name": "stdout",
     "output_type": "stream",
     "text": [
      "_____________________________\n",
      "Original Array === [1, 2, 3, 4, 5, 9]\n",
      "Incremented Num === 123460\n"
     ]
    },
    {
     "data": {
      "text/plain": [
       "['1', '2', '3', '4', '6', '0']"
      ]
     },
     "execution_count": 20,
     "metadata": {},
     "output_type": "execute_result"
    }
   ],
   "source": [
    "def increment2(nums):\n",
    "    \n",
    "    s = str()\n",
    "    \n",
    "    #for i in range (len(nums)):\n",
    "    #    s = s+ str(nums[i])\n",
    "    \n",
    "    for i in nums:\n",
    "        s= s + str(i)\n",
    "    \n",
    "    num = int(s)\n",
    "    \n",
    "    \n",
    "    print(\"_____________________________\")\n",
    "    print(\"Original Array ===\", nums)\n",
    "    print(\"Incremented Num ===\", num +1)\n",
    "    \n",
    "    return list(str(num+1))\n",
    "        \n",
    "    \n",
    "increment2([1,2,3,4,5,9])\n",
    "   "
   ]
  },
  {
   "cell_type": "code",
   "execution_count": 22,
   "id": "59b2f4bf",
   "metadata": {},
   "outputs": [
    {
     "name": "stdout",
     "output_type": "stream",
     "text": [
      "_____________________________\n",
      "Original Array === [9]\n",
      "Incremented Num === 10\n"
     ]
    },
    {
     "data": {
      "text/plain": [
       "['1', '0']"
      ]
     },
     "execution_count": 22,
     "metadata": {},
     "output_type": "execute_result"
    }
   ],
   "source": [
    "increment2([9])"
   ]
  },
  {
   "cell_type": "markdown",
   "id": "535842ab",
   "metadata": {},
   "source": [
    "- Method:"
   ]
  },
  {
   "cell_type": "code",
   "execution_count": 24,
   "id": "568df901",
   "metadata": {},
   "outputs": [],
   "source": [
    "\n",
    "    def plusOne(digits):\n",
    "        if digits[-1]!=9:\n",
    "            digits[-1] = digits[-1] + 1\n",
    "            return digits\n",
    "        else:\n",
    "            digits.insert(0,0) # inserted zero at start position to check later for 999999 case\n",
    "            for i in range(len(digits)-1,-1,-1):\n",
    "                if digits[i]==9:\n",
    "                    digits[i] = 0\n",
    "                else:\n",
    "                    digits[i] = digits[i] + 1\n",
    "                    break\n",
    "                    \n",
    "        if digits[0]==0: # if the start digit remains 0 this means we ignore it Not 999999 case\n",
    "            return digits[1:]\n",
    "        else:\n",
    "            return digits   \n",
    "        \n",
    "        \n",
    "        plusOne([1,2,3,4,5,9])"
   ]
  },
  {
   "cell_type": "code",
   "execution_count": 25,
   "id": "af3c3504",
   "metadata": {},
   "outputs": [
    {
     "name": "stdout",
     "output_type": "stream",
     "text": [
      "[1, 2, 3, 4, 6, 0]\n"
     ]
    }
   ],
   "source": [
    "print(plusOne([1,2,3,4,5,9]))"
   ]
  },
  {
   "cell_type": "code",
   "execution_count": 36,
   "id": "5abc719b",
   "metadata": {},
   "outputs": [],
   "source": [
    "l  = [1,2,3,4,5,6,7]\n",
    "\n",
    "l.append(0)"
   ]
  },
  {
   "cell_type": "code",
   "execution_count": 37,
   "id": "3413b35b",
   "metadata": {},
   "outputs": [
    {
     "name": "stdout",
     "output_type": "stream",
     "text": [
      "[1, 2, 3, 4, 5, 6, 7, 0]\n"
     ]
    }
   ],
   "source": [
    "print(l)"
   ]
  },
  {
   "cell_type": "markdown",
   "id": "eb56732e",
   "metadata": {},
   "source": [
    "- Method:"
   ]
  },
  {
   "cell_type": "code",
   "execution_count": 41,
   "id": "6a0fb908",
   "metadata": {},
   "outputs": [],
   "source": [
    "# Best Method without using the conversion to integer\n",
    "\n",
    "\n",
    "\n",
    "def plusOne(digits):\n",
    "        ls = len(digits)\n",
    "        for index in reversed(range(ls)):\n",
    "            if digits[index] < 9:\n",
    "                digits[index] += 1\n",
    "                # do not need to continue\n",
    "                return digits\n",
    "            else:\n",
    "                # 10\n",
    "                digits[index] = 0\n",
    "        digits.insert(0, 1)\n",
    "        return digits"
   ]
  },
  {
   "cell_type": "code",
   "execution_count": 42,
   "id": "f51ced3d",
   "metadata": {},
   "outputs": [
    {
     "data": {
      "text/plain": [
       "[1, 2, 3, 4, 6, 0]"
      ]
     },
     "execution_count": 42,
     "metadata": {},
     "output_type": "execute_result"
    }
   ],
   "source": [
    "plusOne([1,2,3,4,5,9])"
   ]
  },
  {
   "cell_type": "code",
   "execution_count": 47,
   "id": "fb7a5e1f",
   "metadata": {},
   "outputs": [
    {
     "name": "stdout",
     "output_type": "stream",
     "text": [
      "0\n",
      "1\n",
      "2\n",
      "3\n",
      "4\n",
      "5\n",
      "6\n",
      "7\n",
      "8\n"
     ]
    }
   ],
   "source": [
    "for x in (range(9)):\n",
    "    print(x)"
   ]
  },
  {
   "cell_type": "code",
   "execution_count": null,
   "id": "148178c0",
   "metadata": {},
   "outputs": [],
   "source": []
  }
 ],
 "metadata": {
  "kernelspec": {
   "display_name": "Python 3",
   "language": "python",
   "name": "python3"
  },
  "language_info": {
   "codemirror_mode": {
    "name": "ipython",
    "version": 3
   },
   "file_extension": ".py",
   "mimetype": "text/x-python",
   "name": "python",
   "nbconvert_exporter": "python",
   "pygments_lexer": "ipython3",
   "version": "3.8.8"
  }
 },
 "nbformat": 4,
 "nbformat_minor": 5
}
