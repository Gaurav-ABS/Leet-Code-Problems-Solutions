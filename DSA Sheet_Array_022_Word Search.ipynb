{
 "cells": [
  {
   "cell_type": "code",
   "execution_count": 6,
   "id": "b48b180e",
   "metadata": {},
   "outputs": [],
   "source": [
    "def wordSearch(board,word):\n",
    "    \n",
    "    rows=len(board)\n",
    "    col=len(board[0])\n",
    "    path=set()\n",
    "    \n",
    "    def dfs(r,c,i):\n",
    "        if i == len(word):\n",
    "            return True\n",
    "        \n",
    "        if (r<0 or c<0 or r>= rows or c>= col or\n",
    "            word[i] != board[r][c] or\n",
    "            (r,c) in path):\n",
    "            return False\n",
    "        \n",
    "        path.add((r,c))\n",
    "        \n",
    "        res = (dfs(r+1,c,i+1) or\n",
    "              dfs(r-1,c,i+1)  or\n",
    "              dfs(r,c+1,i+1)  or\n",
    "              dfs(r,c-1,i+1))\n",
    "        \n",
    "        path.remove((r,c))\n",
    "        \n",
    "        return res\n",
    "    \n",
    "    for r in range(rows):\n",
    "        for c in range(col):\n",
    "            if dfs(r,c,0): return True\n",
    "    return False\n",
    "    \n",
    "    \n",
    "        \n",
    "    \n",
    "    "
   ]
  },
  {
   "cell_type": "code",
   "execution_count": 7,
   "id": "0fda545e",
   "metadata": {},
   "outputs": [
    {
     "data": {
      "text/plain": [
       "True"
      ]
     },
     "execution_count": 7,
     "metadata": {},
     "output_type": "execute_result"
    }
   ],
   "source": [
    "wordSearch( [[\"A\",\"B\",\"C\",\"E\"],[\"S\",\"F\",\"C\",\"S\"],[\"A\",\"D\",\"E\",\"E\"]],  \"ABCCED\")"
   ]
  },
  {
   "cell_type": "code",
   "execution_count": 8,
   "id": "a028d143",
   "metadata": {},
   "outputs": [
    {
     "data": {
      "text/plain": [
       "True"
      ]
     },
     "execution_count": 8,
     "metadata": {},
     "output_type": "execute_result"
    }
   ],
   "source": [
    "wordSearch([[\"A\",\"B\",\"C\",\"E\"],[\"S\",\"F\",\"C\",\"S\"],[\"A\",\"D\",\"E\",\"E\"]],word =\"SEE\")"
   ]
  },
  {
   "cell_type": "code",
   "execution_count": null,
   "id": "e14f83cd",
   "metadata": {},
   "outputs": [],
   "source": []
  },
  {
   "cell_type": "code",
   "execution_count": null,
   "id": "52c646fd",
   "metadata": {},
   "outputs": [],
   "source": []
  }
 ],
 "metadata": {
  "kernelspec": {
   "display_name": "Python 3",
   "language": "python",
   "name": "python3"
  },
  "language_info": {
   "codemirror_mode": {
    "name": "ipython",
    "version": 3
   },
   "file_extension": ".py",
   "mimetype": "text/x-python",
   "name": "python",
   "nbconvert_exporter": "python",
   "pygments_lexer": "ipython3",
   "version": "3.8.8"
  }
 },
 "nbformat": 4,
 "nbformat_minor": 5
}
