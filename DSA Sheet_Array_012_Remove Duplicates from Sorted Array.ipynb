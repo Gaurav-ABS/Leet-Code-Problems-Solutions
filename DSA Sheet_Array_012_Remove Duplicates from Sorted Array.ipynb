{
 "cells": [
  {
   "cell_type": "code",
   "execution_count": 6,
   "id": "53cbf6d7",
   "metadata": {},
   "outputs": [],
   "source": [
    "def removeDuplicates(nums):\n",
    "    \n",
    "    k=1\n",
    "    \n",
    "    for i in range(1,len(nums)):\n",
    "        if nums[i] != nums[i-1]:\n",
    "            nums[k] = nums[i]\n",
    "            k = k+1\n",
    "        \n",
    "    return (k,nums)\n"
   ]
  },
  {
   "cell_type": "code",
   "execution_count": 7,
   "id": "0bd7ddc0",
   "metadata": {},
   "outputs": [
    {
     "data": {
      "text/plain": [
       "(2, [1, 2, 2])"
      ]
     },
     "execution_count": 7,
     "metadata": {},
     "output_type": "execute_result"
    }
   ],
   "source": [
    "removeDuplicates([1,1,2])"
   ]
  },
  {
   "cell_type": "code",
   "execution_count": 8,
   "id": "70efef0e",
   "metadata": {},
   "outputs": [
    {
     "data": {
      "text/plain": [
       "(5, [0, 1, 2, 3, 4, 2, 2, 3, 3, 4])"
      ]
     },
     "execution_count": 8,
     "metadata": {},
     "output_type": "execute_result"
    }
   ],
   "source": [
    "removeDuplicates([0,0,1,1,1,2,2,3,3,4])"
   ]
  },
  {
   "cell_type": "code",
   "execution_count": null,
   "id": "5ec5597c",
   "metadata": {},
   "outputs": [],
   "source": []
  }
 ],
 "metadata": {
  "kernelspec": {
   "display_name": "Python 3",
   "language": "python",
   "name": "python3"
  },
  "language_info": {
   "codemirror_mode": {
    "name": "ipython",
    "version": 3
   },
   "file_extension": ".py",
   "mimetype": "text/x-python",
   "name": "python",
   "nbconvert_exporter": "python",
   "pygments_lexer": "ipython3",
   "version": "3.8.8"
  }
 },
 "nbformat": 4,
 "nbformat_minor": 5
}
