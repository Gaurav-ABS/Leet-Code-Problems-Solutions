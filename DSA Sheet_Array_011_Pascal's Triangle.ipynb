{
 "cells": [
  {
   "cell_type": "code",
   "execution_count": 4,
   "id": "7450ef3e",
   "metadata": {},
   "outputs": [],
   "source": [
    "def pascalTriangle(rows):\n",
    "\n",
    "    triangle = list()\n",
    "    \n",
    "    for row in range(rows):\n",
    "        print('_____________________________')\n",
    "        print('row === ',row)\n",
    "        triangle.append([0]*(row+1))\n",
    "        print('row with null elemnst created ====', triangle)\n",
    "        \n",
    "        for col in range(row+1):\n",
    "            print(\"col ===\" ,col)\n",
    "            if col == 0 or col == row:\n",
    "                print('*')\n",
    "                triangle[row][col] = 1\n",
    "                print('first and last col populated as 1 ====' ,triangle)\n",
    "            else:\n",
    "                print('#')\n",
    "                triangle[row][col] = triangle[row - 1][col -1] + triangle[row - 1][col] \n",
    "                print('middle elements populated ===' , triangle)\n",
    "             \n",
    "    return triangle            \n",
    "        \n",
    "        \n",
    "        \n",
    "        \n",
    "    \n",
    "    \n",
    "    "
   ]
  },
  {
   "cell_type": "code",
   "execution_count": 6,
   "id": "1328aa7a",
   "metadata": {},
   "outputs": [
    {
     "name": "stdout",
     "output_type": "stream",
     "text": [
      "_____________________________\n",
      "row ===  0\n",
      "row with null elemnst created ==== [[0]]\n",
      "col === 0\n",
      "*\n",
      "first and last col populated as 1 ==== [[1]]\n",
      "_____________________________\n",
      "row ===  1\n",
      "row with null elemnst created ==== [[1], [0, 0]]\n",
      "col === 0\n",
      "*\n",
      "first and last col populated as 1 ==== [[1], [1, 0]]\n",
      "col === 1\n",
      "*\n",
      "first and last col populated as 1 ==== [[1], [1, 1]]\n",
      "_____________________________\n",
      "row ===  2\n",
      "row with null elemnst created ==== [[1], [1, 1], [0, 0, 0]]\n",
      "col === 0\n",
      "*\n",
      "first and last col populated as 1 ==== [[1], [1, 1], [1, 0, 0]]\n",
      "col === 1\n",
      "#\n",
      "middle elements populated === [[1], [1, 1], [1, 2, 0]]\n",
      "col === 2\n",
      "*\n",
      "first and last col populated as 1 ==== [[1], [1, 1], [1, 2, 1]]\n",
      "_____________________________\n",
      "row ===  3\n",
      "row with null elemnst created ==== [[1], [1, 1], [1, 2, 1], [0, 0, 0, 0]]\n",
      "col === 0\n",
      "*\n",
      "first and last col populated as 1 ==== [[1], [1, 1], [1, 2, 1], [1, 0, 0, 0]]\n",
      "col === 1\n",
      "#\n",
      "middle elements populated === [[1], [1, 1], [1, 2, 1], [1, 3, 0, 0]]\n",
      "col === 2\n",
      "#\n",
      "middle elements populated === [[1], [1, 1], [1, 2, 1], [1, 3, 3, 0]]\n",
      "col === 3\n",
      "*\n",
      "first and last col populated as 1 ==== [[1], [1, 1], [1, 2, 1], [1, 3, 3, 1]]\n",
      "_____________________________\n",
      "row ===  4\n",
      "row with null elemnst created ==== [[1], [1, 1], [1, 2, 1], [1, 3, 3, 1], [0, 0, 0, 0, 0]]\n",
      "col === 0\n",
      "*\n",
      "first and last col populated as 1 ==== [[1], [1, 1], [1, 2, 1], [1, 3, 3, 1], [1, 0, 0, 0, 0]]\n",
      "col === 1\n",
      "#\n",
      "middle elements populated === [[1], [1, 1], [1, 2, 1], [1, 3, 3, 1], [1, 4, 0, 0, 0]]\n",
      "col === 2\n",
      "#\n",
      "middle elements populated === [[1], [1, 1], [1, 2, 1], [1, 3, 3, 1], [1, 4, 6, 0, 0]]\n",
      "col === 3\n",
      "#\n",
      "middle elements populated === [[1], [1, 1], [1, 2, 1], [1, 3, 3, 1], [1, 4, 6, 4, 0]]\n",
      "col === 4\n",
      "*\n",
      "first and last col populated as 1 ==== [[1], [1, 1], [1, 2, 1], [1, 3, 3, 1], [1, 4, 6, 4, 1]]\n"
     ]
    },
    {
     "data": {
      "text/plain": [
       "[[1], [1, 1], [1, 2, 1], [1, 3, 3, 1], [1, 4, 6, 4, 1]]"
      ]
     },
     "execution_count": 6,
     "metadata": {},
     "output_type": "execute_result"
    }
   ],
   "source": [
    "pascalTriangle(5)"
   ]
  },
  {
   "cell_type": "code",
   "execution_count": null,
   "id": "d8ab5a58",
   "metadata": {},
   "outputs": [],
   "source": []
  },
  {
   "cell_type": "code",
   "execution_count": null,
   "id": "b00e548a",
   "metadata": {},
   "outputs": [],
   "source": []
  }
 ],
 "metadata": {
  "kernelspec": {
   "display_name": "Python 3",
   "language": "python",
   "name": "python3"
  },
  "language_info": {
   "codemirror_mode": {
    "name": "ipython",
    "version": 3
   },
   "file_extension": ".py",
   "mimetype": "text/x-python",
   "name": "python",
   "nbconvert_exporter": "python",
   "pygments_lexer": "ipython3",
   "version": "3.8.8"
  }
 },
 "nbformat": 4,
 "nbformat_minor": 5
}
