{
 "cells": [
  {
   "cell_type": "code",
   "execution_count": 23,
   "id": "994bc9a3",
   "metadata": {},
   "outputs": [],
   "source": [
    "# brute force : O(n log m) \n",
    "# this is the solution I found\n",
    "\n",
    "def maxArea (height, width, hCuts, vCuts):\n",
    "    max_a = 0\n",
    "    vCuts.sort()\n",
    "    hCuts.sort()\n",
    "    max_horizontal_side = maxDiff(hCuts, height)\n",
    "    max_vertical_side = maxDiff(vCuts, width)\n",
    "    max_a = max_vertical_side * max_horizontal_side\n",
    "    return(max_a)\n",
    "\n",
    "\n",
    "\n",
    "def maxDiff(nums, edge):\n",
    "    max_d= max(nums[0], edge - nums[-1])\n",
    "    print(\"max_d\", max_d)\n",
    "    for i in range(1,len(nums)):\n",
    "        curr_d = nums[i]-nums[i-1]\n",
    "        max_d = max(max_d, curr_d)\n",
    "    return (max_d)\n",
    "  \n",
    "        \n",
    "\n",
    "        \n",
    "        "
   ]
  },
  {
   "cell_type": "code",
   "execution_count": 24,
   "id": "4c98230d",
   "metadata": {},
   "outputs": [
    {
     "name": "stdout",
     "output_type": "stream",
     "text": [
      "max_d 1\n",
      "max_d 1\n"
     ]
    },
    {
     "data": {
      "text/plain": [
       "4"
      ]
     },
     "execution_count": 24,
     "metadata": {},
     "output_type": "execute_result"
    }
   ],
   "source": [
    "maxArea(5,4,[1,2,4],[1,3])"
   ]
  },
  {
   "cell_type": "code",
   "execution_count": 25,
   "id": "7b116b9e",
   "metadata": {},
   "outputs": [
    {
     "name": "stdout",
     "output_type": "stream",
     "text": [
      "max_d 2\n",
      "max_d 3\n"
     ]
    },
    {
     "data": {
      "text/plain": [
       "6"
      ]
     },
     "execution_count": 25,
     "metadata": {},
     "output_type": "execute_result"
    }
   ],
   "source": [
    "maxArea(5,4,[1,3],[1])"
   ]
  },
  {
   "cell_type": "code",
   "execution_count": 26,
   "id": "282c6346",
   "metadata": {},
   "outputs": [
    {
     "name": "stdout",
     "output_type": "stream",
     "text": [
      "max_d 3\n",
      "max_d 3\n"
     ]
    },
    {
     "data": {
      "text/plain": [
       "9"
      ]
     },
     "execution_count": 26,
     "metadata": {},
     "output_type": "execute_result"
    }
   ],
   "source": [
    "maxArea(5,4,[3],[3])"
   ]
  },
  {
   "cell_type": "code",
   "execution_count": null,
   "id": "2e3c10b7",
   "metadata": {},
   "outputs": [],
   "source": []
  }
 ],
 "metadata": {
  "kernelspec": {
   "display_name": "Python 3",
   "language": "python",
   "name": "python3"
  },
  "language_info": {
   "codemirror_mode": {
    "name": "ipython",
    "version": 3
   },
   "file_extension": ".py",
   "mimetype": "text/x-python",
   "name": "python",
   "nbconvert_exporter": "python",
   "pygments_lexer": "ipython3",
   "version": "3.8.8"
  }
 },
 "nbformat": 4,
 "nbformat_minor": 5
}
