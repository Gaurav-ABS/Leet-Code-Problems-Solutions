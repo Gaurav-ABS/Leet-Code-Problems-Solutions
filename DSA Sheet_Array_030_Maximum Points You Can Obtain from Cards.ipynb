{
 "cells": [
  {
   "cell_type": "code",
   "execution_count": 4,
   "id": "039e3e41",
   "metadata": {},
   "outputs": [],
   "source": [
    "def maxPoints(cardPoints,k):\n",
    "    \n",
    "    l = 0\n",
    "    r = len(cardPoints) - k\n",
    "    total = sum(cardPoints[r:])\n",
    "    res = total\n",
    "    \n",
    "    \n",
    "    while r < len(cardPoints):\n",
    "        total = total + (cardPoints[l] - cardPoints[r])\n",
    "        res = max(res,total)\n",
    "        l = l + 1\n",
    "        r = r + 1\n",
    "        \n",
    "    return res\n",
    "        \n",
    "        \n",
    "            \n",
    "        \n",
    "        \n",
    "    \n",
    "    \n",
    "    "
   ]
  },
  {
   "cell_type": "code",
   "execution_count": 5,
   "id": "b43b9415",
   "metadata": {},
   "outputs": [
    {
     "data": {
      "text/plain": [
       "12"
      ]
     },
     "execution_count": 5,
     "metadata": {},
     "output_type": "execute_result"
    }
   ],
   "source": [
    "maxPoints([1,2,3,4,5,6,1],3)"
   ]
  },
  {
   "cell_type": "code",
   "execution_count": null,
   "id": "b3b9e213",
   "metadata": {},
   "outputs": [],
   "source": []
  }
 ],
 "metadata": {
  "kernelspec": {
   "display_name": "Python 3",
   "language": "python",
   "name": "python3"
  },
  "language_info": {
   "codemirror_mode": {
    "name": "ipython",
    "version": 3
   },
   "file_extension": ".py",
   "mimetype": "text/x-python",
   "name": "python",
   "nbconvert_exporter": "python",
   "pygments_lexer": "ipython3",
   "version": "3.8.8"
  }
 },
 "nbformat": 4,
 "nbformat_minor": 5
}
