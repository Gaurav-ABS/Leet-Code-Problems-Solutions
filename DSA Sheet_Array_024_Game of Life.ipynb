{
 "cells": [
  {
   "cell_type": "code",
   "execution_count": 13,
   "id": "46a3ce59",
   "metadata": {},
   "outputs": [],
   "source": [
    "# this is the optimal solution Try brute force method as well while revising\n",
    "\n",
    "def gameOfLife(board):\n",
    "    # Original New State\n",
    "    # 0;0;0\n",
    "    # 1;0;1\n",
    "    # 0;1;2\n",
    "    # 1;1;3\n",
    "    \n",
    "    rows = len(board)\n",
    "    cols = len(board[0])\n",
    "    \n",
    "    def countNeighbours(r,c):\n",
    "        neighbours = 0\n",
    "        for i in range(r-1,r+2):\n",
    "            for j in range(c-1,c+2):\n",
    "                if ((i==r and j==c) or i<0 or j<0 or i == rows or j == cols):\n",
    "                    continue\n",
    "                if board[i][j] in [1,3]:\n",
    "                    neighbours = neighbours + 1          \n",
    "        return neighbours\n",
    "    \n",
    "    for r in range(rows):\n",
    "        for c in range(cols):\n",
    "            neighbours = countNeighbours(r,c)\n",
    "            if board[r][c]:\n",
    "                if neighbours in [2,3]:\n",
    "                    board[r][c] = 3      \n",
    "            else:\n",
    "                if neighbours == 3:\n",
    "                    board[r][c] = 2\n",
    "                    \n",
    "    \n",
    "                    \n",
    "    for r in range(rows):\n",
    "        for c in range(cols):\n",
    "            if board[r][c] == 1:\n",
    "                board[r][c] = 0\n",
    "            if board[r][c] in [2,3]:\n",
    "                board[r][c] = 1\n",
    "                \n",
    "    return board\n",
    "                \n",
    "\n",
    "            \n",
    "    \n",
    "                "
   ]
  },
  {
   "cell_type": "code",
   "execution_count": 14,
   "id": "7593de90",
   "metadata": {},
   "outputs": [
    {
     "data": {
      "text/plain": [
       "[[0, 0, 0], [1, 0, 1], [0, 1, 1], [0, 1, 0]]"
      ]
     },
     "execution_count": 14,
     "metadata": {},
     "output_type": "execute_result"
    }
   ],
   "source": [
    "gameOfLife([[0,1,0],[0,0,1],[1,1,1],[0,0,0]])"
   ]
  },
  {
   "cell_type": "code",
   "execution_count": 15,
   "id": "7e2c6bbc",
   "metadata": {},
   "outputs": [
    {
     "data": {
      "text/plain": [
       "[[1, 1], [1, 1]]"
      ]
     },
     "execution_count": 15,
     "metadata": {},
     "output_type": "execute_result"
    }
   ],
   "source": [
    "gameOfLife([[1,1],[1,0]])"
   ]
  },
  {
   "cell_type": "code",
   "execution_count": null,
   "id": "369ee318",
   "metadata": {},
   "outputs": [],
   "source": []
  }
 ],
 "metadata": {
  "kernelspec": {
   "display_name": "Python 3",
   "language": "python",
   "name": "python3"
  },
  "language_info": {
   "codemirror_mode": {
    "name": "ipython",
    "version": 3
   },
   "file_extension": ".py",
   "mimetype": "text/x-python",
   "name": "python",
   "nbconvert_exporter": "python",
   "pygments_lexer": "ipython3",
   "version": "3.8.8"
  }
 },
 "nbformat": 4,
 "nbformat_minor": 5
}
