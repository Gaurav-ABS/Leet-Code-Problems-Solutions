{
 "cells": [
  {
   "cell_type": "code",
   "execution_count": 1,
   "id": "ddbcb9b0",
   "metadata": {},
   "outputs": [],
   "source": [
    "def threeSum(nums):\n",
    "    \n",
    "    print(\"Original Array ===\" ,nums)\n",
    "    \n",
    "    nums.sort()\n",
    "    \n",
    "    print(\"Sorted Array ===\" ,nums) # sorting for ensuring unique triplets\n",
    "    \n",
    "    triplets =list()\n",
    "    \n",
    "    i = 0\n",
    "    \n",
    "    while i <= (len(nums) - 3):\n",
    "        \n",
    "        target = - nums[i]\n",
    "          \n",
    "        l,r = i+1 , len(nums) - 1\n",
    "    \n",
    "        while l < r :\n",
    "            \n",
    "            print (i ,l ,r )\n",
    "            \n",
    "            if nums[l] + nums[r] ==  target:\n",
    "                triplets.append([nums[i],nums[l],nums[r]])\n",
    "                print(triplets)\n",
    "                \n",
    "                l = l + 1\n",
    "                \n",
    "                while nums[l] == nums [l-1] and l<r: l = l+1\n",
    "                    \n",
    "\n",
    "                \n",
    "            elif nums[l] + nums[r] > target:\n",
    "                r = r - 1\n",
    "                \n",
    "                \n",
    "            elif nums[l] + nums[r] < target: \n",
    "                l = l + 1 \n",
    "                \n",
    "        \n",
    "        i = i + 1\n",
    "        \n",
    "        print('______________')\n",
    "        print('i incresed to ===' , i)\n",
    "        \n",
    "        \n",
    "        if nums[i] == nums [i - 1]  : \n",
    "            print ('equal',nums[i], nums [i - 1])\n",
    "            i = i + 1\n",
    "            print('i incresed to ===' , i)\n",
    "            \n",
    "            \n",
    "                \n",
    "    return (triplets)"
   ]
  },
  {
   "cell_type": "code",
   "execution_count": 2,
   "id": "c742b95d",
   "metadata": {},
   "outputs": [
    {
     "name": "stdout",
     "output_type": "stream",
     "text": [
      "Original Array === [-1, 0, 1, 2, -1, -4]\n",
      "Sorted Array === [-4, -1, -1, 0, 1, 2]\n",
      "0 1 5\n",
      "0 2 5\n",
      "0 3 5\n",
      "0 4 5\n",
      "______________\n",
      "i incresed to === 1\n",
      "1 2 5\n",
      "[[-1, -1, 2]]\n",
      "1 3 5\n",
      "1 3 4\n",
      "[[-1, -1, 2], [-1, 0, 1]]\n",
      "______________\n",
      "i incresed to === 2\n",
      "equal -1 -1\n",
      "i incresed to === 3\n",
      "3 4 5\n",
      "______________\n",
      "i incresed to === 4\n"
     ]
    },
    {
     "data": {
      "text/plain": [
       "[[-1, -1, 2], [-1, 0, 1]]"
      ]
     },
     "execution_count": 2,
     "metadata": {},
     "output_type": "execute_result"
    }
   ],
   "source": [
    "threeSum([-1,0,1,2,-1,-4])"
   ]
  },
  {
   "cell_type": "code",
   "execution_count": 3,
   "id": "44697e25",
   "metadata": {},
   "outputs": [
    {
     "name": "stdout",
     "output_type": "stream",
     "text": [
      "Original Array === [-1, 0, 1, 2, -1, -4, 3, 5]\n",
      "Sorted Array === [-4, -1, -1, 0, 1, 2, 3, 5]\n",
      "0 1 7\n",
      "[[-4, -1, 5]]\n",
      "0 3 7\n",
      "0 3 6\n",
      "0 4 6\n",
      "[[-4, -1, 5], [-4, 1, 3]]\n",
      "0 5 6\n",
      "______________\n",
      "i incresed to === 1\n",
      "1 2 7\n",
      "1 2 6\n",
      "1 2 5\n",
      "[[-4, -1, 5], [-4, 1, 3], [-1, -1, 2]]\n",
      "1 3 5\n",
      "1 3 4\n",
      "[[-4, -1, 5], [-4, 1, 3], [-1, -1, 2], [-1, 0, 1]]\n",
      "______________\n",
      "i incresed to === 2\n",
      "equal -1 -1\n",
      "i incresed to === 3\n",
      "3 4 7\n",
      "3 4 6\n",
      "3 4 5\n",
      "______________\n",
      "i incresed to === 4\n",
      "4 5 7\n",
      "4 5 6\n",
      "______________\n",
      "i incresed to === 5\n",
      "5 6 7\n",
      "______________\n",
      "i incresed to === 6\n"
     ]
    },
    {
     "data": {
      "text/plain": [
       "[[-4, -1, 5], [-4, 1, 3], [-1, -1, 2], [-1, 0, 1]]"
      ]
     },
     "execution_count": 3,
     "metadata": {},
     "output_type": "execute_result"
    }
   ],
   "source": [
    "threeSum([-1,0,1,2,-1,-4,3,5])"
   ]
  },
  {
   "cell_type": "code",
   "execution_count": null,
   "id": "6fbb41cc",
   "metadata": {},
   "outputs": [],
   "source": []
  },
  {
   "cell_type": "code",
   "execution_count": null,
   "id": "a5efb3b7",
   "metadata": {},
   "outputs": [],
   "source": []
  },
  {
   "cell_type": "code",
   "execution_count": null,
   "id": "d1e0614e",
   "metadata": {},
   "outputs": [],
   "source": []
  }
 ],
 "metadata": {
  "kernelspec": {
   "display_name": "Python 3",
   "language": "python",
   "name": "python3"
  },
  "language_info": {
   "codemirror_mode": {
    "name": "ipython",
    "version": 3
   },
   "file_extension": ".py",
   "mimetype": "text/x-python",
   "name": "python",
   "nbconvert_exporter": "python",
   "pygments_lexer": "ipython3",
   "version": "3.8.8"
  }
 },
 "nbformat": 4,
 "nbformat_minor": 5
}
