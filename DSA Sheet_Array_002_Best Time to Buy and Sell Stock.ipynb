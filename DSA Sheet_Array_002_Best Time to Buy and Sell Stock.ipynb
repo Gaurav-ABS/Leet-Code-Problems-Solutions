{
 "cells": [
  {
   "cell_type": "code",
   "execution_count": 1,
   "id": "a4238ee3",
   "metadata": {},
   "outputs": [],
   "source": [
    "# Method 1: O(n^2) time complexity\n",
    "\n",
    "def maxProfit(prices):\n",
    "    \n",
    "    profits=list()\n",
    "    \n",
    "    for i in range(len(prices)):\n",
    "        for j in range(i+1 , len(prices)):\n",
    "            profit = prices[j] - prices[i]\n",
    "            profits.append(profit)\n",
    "    \n",
    "    maxProfit = max(profits)\n",
    "    \n",
    "    if maxProfit < 0: return 0\n",
    "    else : return maxProfit"
   ]
  },
  {
   "cell_type": "code",
   "execution_count": 2,
   "id": "93f86a5c",
   "metadata": {},
   "outputs": [
    {
     "data": {
      "text/plain": [
       "5"
      ]
     },
     "execution_count": 2,
     "metadata": {},
     "output_type": "execute_result"
    }
   ],
   "source": [
    "maxProfit([7,1,5,3,6,4])"
   ]
  },
  {
   "cell_type": "code",
   "execution_count": 3,
   "id": "e33de066",
   "metadata": {},
   "outputs": [
    {
     "data": {
      "text/plain": [
       "0"
      ]
     },
     "execution_count": 3,
     "metadata": {},
     "output_type": "execute_result"
    }
   ],
   "source": [
    "maxProfit([7,6,4,3,1])"
   ]
  },
  {
   "cell_type": "code",
   "execution_count": 4,
   "id": "ba1e8724",
   "metadata": {},
   "outputs": [],
   "source": [
    "# Method 2: O(n) time complexity\n",
    "\n",
    "\n",
    "def maxProfit2 (prices):\n",
    "    \n",
    "    buyPrice=0\n",
    "    sellPrice=0\n",
    "    \n",
    "    for i in range(len(prices)):\n",
    "        \n",
    "        buyPrice=min(buyPrice,prices[i])\n",
    "        sellPrice=max(sellPrice,prices[i])\n",
    "        \n",
    "        # minPrice = min(minPrice, prices[i])\n",
    "        # maxProfit = max(maxProfit , prices[i] - buyPrice)\n",
    "        \n",
    "    maxProfit=sellPrice - buyPrice\n",
    "    \n",
    "    if maxProfit < 0: return 0\n",
    "    else : return maxProfit"
   ]
  },
  {
   "cell_type": "code",
   "execution_count": 5,
   "id": "346e5b95",
   "metadata": {},
   "outputs": [
    {
     "data": {
      "text/plain": [
       "5"
      ]
     },
     "execution_count": 5,
     "metadata": {},
     "output_type": "execute_result"
    }
   ],
   "source": [
    "maxProfit([7,1,5,3,6,4])"
   ]
  },
  {
   "cell_type": "code",
   "execution_count": 6,
   "id": "2ff645f2",
   "metadata": {},
   "outputs": [
    {
     "data": {
      "text/plain": [
       "0"
      ]
     },
     "execution_count": 6,
     "metadata": {},
     "output_type": "execute_result"
    }
   ],
   "source": [
    "maxProfit([7,6,4,3,1])"
   ]
  },
  {
   "cell_type": "code",
   "execution_count": null,
   "id": "5cd20e17",
   "metadata": {},
   "outputs": [],
   "source": []
  }
 ],
 "metadata": {
  "kernelspec": {
   "display_name": "Python 3",
   "language": "python",
   "name": "python3"
  },
  "language_info": {
   "codemirror_mode": {
    "name": "ipython",
    "version": 3
   },
   "file_extension": ".py",
   "mimetype": "text/x-python",
   "name": "python",
   "nbconvert_exporter": "python",
   "pygments_lexer": "ipython3",
   "version": "3.8.8"
  }
 },
 "nbformat": 4,
 "nbformat_minor": 5
}
