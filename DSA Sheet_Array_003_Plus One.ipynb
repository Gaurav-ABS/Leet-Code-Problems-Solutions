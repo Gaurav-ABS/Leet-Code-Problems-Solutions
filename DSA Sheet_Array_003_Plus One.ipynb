{
 "cells": [
  {
   "cell_type": "code",
   "execution_count": 4,
   "id": "63257965",
   "metadata": {},
   "outputs": [],
   "source": [
    "def plusOne(digits):\n",
    "        ls = len(digits)\n",
    "        for index in reversed(range(ls)):\n",
    "            if digits[index] < 9:\n",
    "                digits[index] += 1\n",
    "                # do not need to continue\n",
    "                return digits\n",
    "            else:\n",
    "                # 10\n",
    "                digits[index] = 0\n",
    "                \n",
    "        digits.insert(0,1) # handling the 9999 case. Note that this must be after the entire loop is over\n",
    "        return(digits)"
   ]
  },
  {
   "cell_type": "code",
   "execution_count": 5,
   "id": "70c0ef5c",
   "metadata": {},
   "outputs": [
    {
     "data": {
      "text/plain": [
       "[1, 0, 0, 0, 0]"
      ]
     },
     "execution_count": 5,
     "metadata": {},
     "output_type": "execute_result"
    }
   ],
   "source": [
    "plusOne([9,9,9,9])"
   ]
  },
  {
   "cell_type": "code",
   "execution_count": null,
   "id": "a9f08f7d",
   "metadata": {},
   "outputs": [],
   "source": []
  }
 ],
 "metadata": {
  "kernelspec": {
   "display_name": "Python 3",
   "language": "python",
   "name": "python3"
  },
  "language_info": {
   "codemirror_mode": {
    "name": "ipython",
    "version": 3
   },
   "file_extension": ".py",
   "mimetype": "text/x-python",
   "name": "python",
   "nbconvert_exporter": "python",
   "pygments_lexer": "ipython3",
   "version": "3.8.8"
  }
 },
 "nbformat": 4,
 "nbformat_minor": 5
}
