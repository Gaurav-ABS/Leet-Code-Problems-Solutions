{
 "cells": [
  {
   "cell_type": "code",
   "execution_count": 13,
   "id": "1acf5bc9",
   "metadata": {},
   "outputs": [],
   "source": [
    "# brute force method\n",
    "\n",
    "def subsets(nums):\n",
    "    res = [[]]\n",
    "    cur = list()\n",
    "    l=0\n",
    "    while l<len(nums):\n",
    "        r = l+1\n",
    "        for i in range(len(nums) - l):\n",
    "            while r <= len(nums):\n",
    "                res.append(list(nums[l:r]))\n",
    "                r += 1  \n",
    "        l=l+1\n",
    "    return (res)"
   ]
  },
  {
   "cell_type": "code",
   "execution_count": 14,
   "id": "e0a95110",
   "metadata": {},
   "outputs": [
    {
     "data": {
      "text/plain": [
       "[[], [1], [1, 2], [1, 2, 3], [2], [2, 3], [3]]"
      ]
     },
     "execution_count": 14,
     "metadata": {},
     "output_type": "execute_result"
    }
   ],
   "source": [
    "subsets([1,2,3])"
   ]
  },
  {
   "cell_type": "code",
   "execution_count": 15,
   "id": "0adb5bab",
   "metadata": {},
   "outputs": [
    {
     "data": {
      "text/plain": [
       "[[], [0]]"
      ]
     },
     "execution_count": 15,
     "metadata": {},
     "output_type": "execute_result"
    }
   ],
   "source": [
    "subsets([0])"
   ]
  },
  {
   "cell_type": "code",
   "execution_count": 21,
   "id": "bf6e6639",
   "metadata": {},
   "outputs": [],
   "source": [
    "# backtracking / decision tree / NOT UNDERSTOOD\n",
    "\n",
    "def subsets(nums):\n",
    "    res=[]\n",
    "    \n",
    "    subset = []\n",
    "    def dfs(i):\n",
    "        if i>= len(nums):\n",
    "            res.append(subset.copy())\n",
    "            return\n",
    "        \n",
    "        print(\"# decision to include nums[i]\")\n",
    "    \n",
    "        # decision to include nums[i]\n",
    "        subset.append(nums[i])\n",
    "        print(\"i = \",i)\n",
    "        print(\"nums[i] =\",nums[i])\n",
    "        print(\"subset = \", subset)\n",
    "        dfs(i+1)\n",
    "        \n",
    "        print(\"# decison not to include nums[i]\")\n",
    "        # decison not to include nums[i]\n",
    "        subset.pop()\n",
    "        dfs(i+1)\n",
    "    \n",
    "    dfs(0)\n",
    "    return(res)\n"
   ]
  },
  {
   "cell_type": "code",
   "execution_count": 22,
   "id": "ed4bd756",
   "metadata": {},
   "outputs": [
    {
     "name": "stdout",
     "output_type": "stream",
     "text": [
      "# decision to include nums[i]\n",
      "i =  0\n",
      "nums[i] = 1\n",
      "subset =  [1]\n",
      "# decision to include nums[i]\n",
      "i =  1\n",
      "nums[i] = 2\n",
      "subset =  [1, 2]\n",
      "# decision to include nums[i]\n",
      "i =  2\n",
      "nums[i] = 3\n",
      "subset =  [1, 2, 3]\n",
      "# decison not to include nums[i]\n",
      "# decison not to include nums[i]\n",
      "# decision to include nums[i]\n",
      "i =  2\n",
      "nums[i] = 3\n",
      "subset =  [1, 3]\n",
      "# decison not to include nums[i]\n",
      "# decison not to include nums[i]\n",
      "# decision to include nums[i]\n",
      "i =  1\n",
      "nums[i] = 2\n",
      "subset =  [2]\n",
      "# decision to include nums[i]\n",
      "i =  2\n",
      "nums[i] = 3\n",
      "subset =  [2, 3]\n",
      "# decison not to include nums[i]\n",
      "# decison not to include nums[i]\n",
      "# decision to include nums[i]\n",
      "i =  2\n",
      "nums[i] = 3\n",
      "subset =  [3]\n",
      "# decison not to include nums[i]\n"
     ]
    },
    {
     "data": {
      "text/plain": [
       "[[1, 2, 3], [1, 2], [1, 3], [1], [2, 3], [2], [3], []]"
      ]
     },
     "execution_count": 22,
     "metadata": {},
     "output_type": "execute_result"
    }
   ],
   "source": [
    "subsets([1,2,3])"
   ]
  },
  {
   "cell_type": "code",
   "execution_count": null,
   "id": "cafb436e",
   "metadata": {},
   "outputs": [],
   "source": []
  }
 ],
 "metadata": {
  "kernelspec": {
   "display_name": "Python 3",
   "language": "python",
   "name": "python3"
  },
  "language_info": {
   "codemirror_mode": {
    "name": "ipython",
    "version": 3
   },
   "file_extension": ".py",
   "mimetype": "text/x-python",
   "name": "python",
   "nbconvert_exporter": "python",
   "pygments_lexer": "ipython3",
   "version": "3.8.8"
  }
 },
 "nbformat": 4,
 "nbformat_minor": 5
}
