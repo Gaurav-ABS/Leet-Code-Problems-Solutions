{
 "cells": [
  {
   "cell_type": "code",
   "execution_count": 1,
   "id": "cf56d17c",
   "metadata": {},
   "outputs": [],
   "source": [
    "# using list\n",
    "\n",
    "def fibonnaci(n):\n",
    "    \n",
    "    fib = [0,0,0]\n",
    "    fib[0] = 0\n",
    "    fib[1] = 1\n",
    "    \n",
    "    print(fib[0])\n",
    "    print(fib[1])\n",
    "    \n",
    "    for i in range(n-1):\n",
    "        fib[2] = fib[1] + fib [0]\n",
    "        \n",
    "        print(fib[2])\n",
    "        \n",
    "        fib [0] = fib [1]\n",
    "        fib [1] = fib [2]\n",
    "        \n",
    "    return (fib[2])\n",
    "        \n",
    "        \n",
    "   "
   ]
  },
  {
   "cell_type": "code",
   "execution_count": 2,
   "id": "b7baa616",
   "metadata": {},
   "outputs": [
    {
     "name": "stdout",
     "output_type": "stream",
     "text": [
      "0\n",
      "1\n",
      "1\n",
      "2\n"
     ]
    },
    {
     "data": {
      "text/plain": [
       "2"
      ]
     },
     "execution_count": 2,
     "metadata": {},
     "output_type": "execute_result"
    }
   ],
   "source": [
    "fibonnaci(3)"
   ]
  },
  {
   "cell_type": "code",
   "execution_count": 3,
   "id": "9cddcf7b",
   "metadata": {},
   "outputs": [],
   "source": [
    "# using dictionary\n",
    "\n",
    "def fibonnaci(n):\n",
    "    \n",
    "    fib = {0:0 , 1:1}\n",
    "    \n",
    "    print(fib[0])\n",
    "    print(fib[1])\n",
    "    \n",
    "    for i in range(2,n+1):\n",
    "        fib[i] = fib[i-1] + fib[i-2]\n",
    "        print(fib[i])\n",
    "    \n",
    "    return (fib[i])"
   ]
  },
  {
   "cell_type": "code",
   "execution_count": 4,
   "id": "f5620060",
   "metadata": {},
   "outputs": [
    {
     "name": "stdout",
     "output_type": "stream",
     "text": [
      "0\n",
      "1\n",
      "1\n",
      "2\n"
     ]
    },
    {
     "data": {
      "text/plain": [
       "2"
      ]
     },
     "execution_count": 4,
     "metadata": {},
     "output_type": "execute_result"
    }
   ],
   "source": [
    "fibonnaci(3)"
   ]
  },
  {
   "cell_type": "code",
   "execution_count": 5,
   "id": "de567f6a",
   "metadata": {},
   "outputs": [],
   "source": [
    "# using recursion (is slow)\n",
    "\n",
    "class fibonnaci:\n",
    "    \n",
    "    def __init__ (self):\n",
    "        pass\n",
    "    \n",
    "    def fib(self, n):\n",
    "        \n",
    "        if n == 0:\n",
    "            return 0\n",
    "        if n == 1:\n",
    "            return 1\n",
    "        \n",
    "        return (self.fib(n-1) + self.fib(n-2))\n",
    "        \n",
    "\n",
    "    "
   ]
  },
  {
   "cell_type": "code",
   "execution_count": 7,
   "id": "a4c8574b",
   "metadata": {},
   "outputs": [],
   "source": [
    "f=fibonnaci()"
   ]
  },
  {
   "cell_type": "code",
   "execution_count": 10,
   "id": "dc52c703",
   "metadata": {},
   "outputs": [
    {
     "data": {
      "text/plain": [
       "3"
      ]
     },
     "execution_count": 10,
     "metadata": {},
     "output_type": "execute_result"
    }
   ],
   "source": [
    "f.fib(4)"
   ]
  },
  {
   "cell_type": "code",
   "execution_count": null,
   "id": "5974f0aa",
   "metadata": {},
   "outputs": [],
   "source": []
  },
  {
   "cell_type": "code",
   "execution_count": null,
   "id": "dbcb7112",
   "metadata": {},
   "outputs": [],
   "source": []
  }
 ],
 "metadata": {
  "kernelspec": {
   "display_name": "Python 3",
   "language": "python",
   "name": "python3"
  },
  "language_info": {
   "codemirror_mode": {
    "name": "ipython",
    "version": 3
   },
   "file_extension": ".py",
   "mimetype": "text/x-python",
   "name": "python",
   "nbconvert_exporter": "python",
   "pygments_lexer": "ipython3",
   "version": "3.8.8"
  }
 },
 "nbformat": 4,
 "nbformat_minor": 5
}
