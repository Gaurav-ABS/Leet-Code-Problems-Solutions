{
 "cells": [
  {
   "cell_type": "markdown",
   "id": "b924f088",
   "metadata": {},
   "source": [
    "# Two Sums\n",
    "\n",
    "- Problem Description on Leetcode\n",
    "\n",
    "  <a href =\"https://leetcode.com/problems/two-sum/\" > Two Sums </a>"
   ]
  },
  {
   "cell_type": "markdown",
   "id": "b36ba92a",
   "metadata": {},
   "source": [
    "- Methods\n"
   ]
  },
  {
   "cell_type": "markdown",
   "id": "75ff6d6f",
   "metadata": {},
   "source": [
    "1. Brute Force Method\n",
    "\n",
    "  A really brute force way would be to search for all possible pairs of numbers but that would be too slow. Again, it's best to try out brute force solutions for just for completeness. It is from these brute force solutions that you can come up with optimizations."
   ]
  },
  {
   "cell_type": "code",
   "execution_count": 35,
   "id": "a60a16af",
   "metadata": {},
   "outputs": [
    {
     "name": "stdout",
     "output_type": "stream",
     "text": [
      "[1, 2, 3, 4, 5, 6, 7, 8, 9, 10]\n",
      "10\n",
      "This pair satisfies the condition 0  :  8\n",
      "This pair satisfies the condition 1  :  7\n",
      "This pair satisfies the condition 2  :  6\n",
      "This pair satisfies the condition 3  :  5\n"
     ]
    }
   ],
   "source": [
    "nums = [1,2,3,4,5,6,7,8,9,10]\n",
    "target = 10\n",
    "\n",
    "print(nums)\n",
    "print(target)\n",
    "\n",
    "for i in range(len(nums)):\n",
    "    for j in range(i + 1, len(nums)):\n",
    "        if nums[j] == target - nums[i]:\n",
    "            print('This pair satisfies the condition',i,\" : \",j)\n",
    "        \n",
    "                \n",
    "# I have not created a Class and Method to keep it simple and focus on the logic\n",
    "# You can easily try with different values of the List and the Target"
   ]
  },
  {
   "cell_type": "code",
   "execution_count": null,
   "id": "f279b499",
   "metadata": {},
   "outputs": [],
   "source": []
  },
  {
   "cell_type": "code",
   "execution_count": null,
   "id": "92811845",
   "metadata": {},
   "outputs": [],
   "source": []
  }
 ],
 "metadata": {
  "kernelspec": {
   "display_name": "Python 3",
   "language": "python",
   "name": "python3"
  },
  "language_info": {
   "codemirror_mode": {
    "name": "ipython",
    "version": 3
   },
   "file_extension": ".py",
   "mimetype": "text/x-python",
   "name": "python",
   "nbconvert_exporter": "python",
   "pygments_lexer": "ipython3",
   "version": "3.8.8"
  }
 },
 "nbformat": 4,
 "nbformat_minor": 5
}
