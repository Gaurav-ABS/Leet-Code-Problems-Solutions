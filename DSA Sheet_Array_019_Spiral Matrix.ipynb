{
 "cells": [
  {
   "cell_type": "code",
   "execution_count": 31,
   "id": "a3f49e6c",
   "metadata": {},
   "outputs": [],
   "source": [
    "def spiralMatrix(matrix):\n",
    "    \n",
    "    rows=len(matrix)\n",
    "    colmn=len(matrix[0])\n",
    "    res=list()\n",
    "    \n",
    "    #setting boundaries\n",
    "    top=0\n",
    "    bottom=rows\n",
    "    left=0\n",
    "    right=colmn\n",
    "    \n",
    "    #starting to iterate\n",
    "    \n",
    "    while left<right and top<bottom:\n",
    "        \n",
    "        #elements in top row\n",
    "        for i in range (left,right):\n",
    "            res.append(matrix[top][i])\n",
    "            print(res)\n",
    "        top = top+1\n",
    "        \n",
    "        #elements in right column\n",
    "        for i in range(top,bottom):\n",
    "            res.append(matrix[i][right-1])\n",
    "            print(res)\n",
    "        right=right-1\n",
    "        \n",
    "        # difficult to understand this but this is needed\n",
    "        if not(left<right and top<bottom):\n",
    "              break\n",
    "        \n",
    "        # elements in bottom row\n",
    "        for i in range(right-1,left-1,-1):\n",
    "            res.append(matrix[bottom-1][i])\n",
    "            print(res)\n",
    "        bottom = bottom -1\n",
    "        \n",
    "        #elements in left column\n",
    "        for i in range (bottom -1, top -1,-1):\n",
    "            res.append(matrix[i][left])\n",
    "            print(res)\n",
    "        left=left +1\n",
    "        \n",
    "    \n",
    "    return (res)\n",
    "            \n",
    "        \n",
    "       \n",
    "            \n",
    "\n",
    "    \n",
    "    "
   ]
  },
  {
   "cell_type": "code",
   "execution_count": 32,
   "id": "a419414c",
   "metadata": {},
   "outputs": [
    {
     "name": "stdout",
     "output_type": "stream",
     "text": [
      "[1]\n",
      "[1, 2]\n",
      "[1, 2, 3]\n",
      "[1, 2, 3, 6]\n",
      "[1, 2, 3, 6, 9]\n",
      "[1, 2, 3, 6, 9, 8]\n",
      "[1, 2, 3, 6, 9, 8, 7]\n",
      "[1, 2, 3, 6, 9, 8, 7, 4]\n",
      "[1, 2, 3, 6, 9, 8, 7, 4, 5]\n"
     ]
    },
    {
     "data": {
      "text/plain": [
       "[1, 2, 3, 6, 9, 8, 7, 4, 5]"
      ]
     },
     "execution_count": 32,
     "metadata": {},
     "output_type": "execute_result"
    }
   ],
   "source": [
    "spiralMatrix([[1,2,3],[4,5,6],[7,8,9]])"
   ]
  },
  {
   "cell_type": "code",
   "execution_count": 33,
   "id": "0f8d733c",
   "metadata": {},
   "outputs": [
    {
     "name": "stdout",
     "output_type": "stream",
     "text": [
      "[1]\n",
      "[1, 2]\n",
      "[1, 2, 3]\n",
      "[1, 2, 3, 4]\n",
      "[1, 2, 3, 4, 8]\n",
      "[1, 2, 3, 4, 8, 12]\n",
      "[1, 2, 3, 4, 8, 12, 11]\n",
      "[1, 2, 3, 4, 8, 12, 11, 10]\n",
      "[1, 2, 3, 4, 8, 12, 11, 10, 9]\n",
      "[1, 2, 3, 4, 8, 12, 11, 10, 9, 5]\n",
      "[1, 2, 3, 4, 8, 12, 11, 10, 9, 5, 6]\n",
      "[1, 2, 3, 4, 8, 12, 11, 10, 9, 5, 6, 7]\n"
     ]
    },
    {
     "data": {
      "text/plain": [
       "[1, 2, 3, 4, 8, 12, 11, 10, 9, 5, 6, 7]"
      ]
     },
     "execution_count": 33,
     "metadata": {},
     "output_type": "execute_result"
    }
   ],
   "source": [
    "spiralMatrix([[1,2,3,4],[5,6,7,8],[9,10,11,12]])"
   ]
  },
  {
   "cell_type": "code",
   "execution_count": null,
   "id": "c1db297a",
   "metadata": {},
   "outputs": [],
   "source": []
  }
 ],
 "metadata": {
  "kernelspec": {
   "display_name": "Python 3",
   "language": "python",
   "name": "python3"
  }
 },
 "nbformat": 4,
 "nbformat_minor": 5
}
