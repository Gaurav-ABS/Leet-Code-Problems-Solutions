{
 "cells": [
  {
   "cell_type": "code",
   "execution_count": 12,
   "id": "5941b3a6",
   "metadata": {},
   "outputs": [],
   "source": [
    "def maxAreaOfIsland(grid):\n",
    "    \n",
    "    rows=len(grid)\n",
    "    col=len(grid[0])\n",
    "    path=set()\n",
    "    area=0\n",
    "    \n",
    "    # the def for search function\n",
    "    def dfs(r,c):\n",
    "            \n",
    "            # first thing to write recursssion is the base case\n",
    "            # this base case means we did not find a 1 ie No more land\n",
    "            if (r<0 or c<0 or r>= rows or c>= col or (r,c) in path) or grid[r][c] == 0:            \n",
    "                return (0)\n",
    "            \n",
    "        \n",
    "            path.add((r,c)) # to check for repetition\n",
    "            \n",
    "            return(1 + dfs(r+1,c) + dfs(r-1,c) + dfs(r,c+1) +  dfs(r,c-1) ) \n",
    "        \n",
    "    \n",
    "    for r in range(rows):\n",
    "        for c in range(col):\n",
    "            area = max(area, dfs(r,c))\n",
    "    return(area)\n",
    "    \n",
    "    \n",
    "        \n",
    "    \n",
    "    "
   ]
  },
  {
   "cell_type": "code",
   "execution_count": 13,
   "id": "563b5bae",
   "metadata": {},
   "outputs": [
    {
     "data": {
      "text/plain": [
       "6"
      ]
     },
     "execution_count": 13,
     "metadata": {},
     "output_type": "execute_result"
    }
   ],
   "source": [
    "maxAreaOfIsland([[0,0,1,0,0,0,0,1,0,0,0,0,0],[0,0,0,0,0,0,0,1,1,1,0,0,0],[0,1,1,0,1,0,0,0,0,0,0,0,0],[0,1,0,0,1,1,0,0,1,0,1,0,0],[0,1,0,0,1,1,0,0,1,1,1,0,0],[0,0,0,0,0,0,0,0,0,0,1,0,0],[0,0,0,0,0,0,0,1,1,1,0,0,0],[0,0,0,0,0,0,0,1,1,0,0,0,0]])"
   ]
  },
  {
   "cell_type": "code",
   "execution_count": 14,
   "id": "2d022e33",
   "metadata": {},
   "outputs": [
    {
     "data": {
      "text/plain": [
       "0"
      ]
     },
     "execution_count": 14,
     "metadata": {},
     "output_type": "execute_result"
    }
   ],
   "source": [
    "maxAreaOfIsland([[0,0,0,0,0,0,0,0]])"
   ]
  },
  {
   "cell_type": "code",
   "execution_count": null,
   "id": "9a9ff620",
   "metadata": {},
   "outputs": [],
   "source": []
  }
 ],
 "metadata": {
  "kernelspec": {
   "display_name": "Python 3",
   "language": "python",
   "name": "python3"
  },
  "language_info": {
   "codemirror_mode": {
    "name": "ipython",
    "version": 3
   },
   "file_extension": ".py",
   "mimetype": "text/x-python",
   "name": "python",
   "nbconvert_exporter": "python",
   "pygments_lexer": "ipython3",
   "version": "3.8.8"
  }
 },
 "nbformat": 4,
 "nbformat_minor": 5
}
