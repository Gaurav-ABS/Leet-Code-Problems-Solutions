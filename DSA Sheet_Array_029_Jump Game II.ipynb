{
 "cells": [
  {
   "cell_type": "code",
   "execution_count": 17,
   "id": "9f8cbd6e",
   "metadata": {},
   "outputs": [],
   "source": [
    "def jump(nums):\n",
    "    res = 0\n",
    "    l=0\n",
    "    r=0\n",
    "    \n",
    "    while r < len(nums) - 1:\n",
    "        farthest = 0\n",
    "        for i in range(l,r + 1):\n",
    "            farthest = max(farthest, i+nums[i])\n",
    "        l = r + 1\n",
    "        r = farthest\n",
    "        res = res + 1\n",
    "    return (res)"
   ]
  },
  {
   "cell_type": "code",
   "execution_count": 18,
   "id": "c487384b",
   "metadata": {},
   "outputs": [
    {
     "data": {
      "text/plain": [
       "2"
      ]
     },
     "execution_count": 18,
     "metadata": {},
     "output_type": "execute_result"
    }
   ],
   "source": [
    "jump([2,3,1,1,4])"
   ]
  },
  {
   "cell_type": "code",
   "execution_count": 19,
   "id": "9bd1a132",
   "metadata": {},
   "outputs": [
    {
     "data": {
      "text/plain": [
       "2"
      ]
     },
     "execution_count": 19,
     "metadata": {},
     "output_type": "execute_result"
    }
   ],
   "source": [
    "jump([2,3,0,1,4])"
   ]
  },
  {
   "cell_type": "code",
   "execution_count": 20,
   "id": "c8de99df",
   "metadata": {},
   "outputs": [
    {
     "data": {
      "text/plain": [
       "1"
      ]
     },
     "execution_count": 20,
     "metadata": {},
     "output_type": "execute_result"
    }
   ],
   "source": [
    "jump([3,1,1,4])"
   ]
  },
  {
   "cell_type": "code",
   "execution_count": null,
   "id": "a4f04e02",
   "metadata": {},
   "outputs": [],
   "source": []
  }
 ],
 "metadata": {
  "kernelspec": {
   "display_name": "Python 3",
   "language": "python",
   "name": "python3"
  },
  "language_info": {
   "codemirror_mode": {
    "name": "ipython",
    "version": 3
   },
   "file_extension": ".py",
   "mimetype": "text/x-python",
   "name": "python",
   "nbconvert_exporter": "python",
   "pygments_lexer": "ipython3",
   "version": "3.8.8"
  }
 },
 "nbformat": 4,
 "nbformat_minor": 5
}
