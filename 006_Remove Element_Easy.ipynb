{
 "cells": [
  {
   "cell_type": "markdown",
   "id": "698f6986",
   "metadata": {},
   "source": [
    "# Remove Element\n",
    "\n",
    "- Problem description on Leet Code\n",
    "\n",
    "<a href = \"https://leetcode.com/problems/remove-element/\" > Remove Element </a>"
   ]
  },
  {
   "cell_type": "markdown",
   "id": "92ba49ca",
   "metadata": {},
   "source": [
    "- Method:"
   ]
  },
  {
   "cell_type": "code",
   "execution_count": 1,
   "id": "5790f48c",
   "metadata": {},
   "outputs": [
    {
     "ename": "NameError",
     "evalue": "name 'num' is not defined",
     "output_type": "error",
     "traceback": [
      "\u001b[1;31m---------------------------------------------------------------------------\u001b[0m",
      "\u001b[1;31mNameError\u001b[0m                                 Traceback (most recent call last)",
      "\u001b[1;32m<ipython-input-1-a7d866b5e958>\u001b[0m in \u001b[0;36m<module>\u001b[1;34m\u001b[0m\n\u001b[0;32m      3\u001b[0m \u001b[0mval\u001b[0m\u001b[1;33m=\u001b[0m\u001b[1;36m4\u001b[0m\u001b[1;33m\u001b[0m\u001b[1;33m\u001b[0m\u001b[0m\n\u001b[0;32m      4\u001b[0m \u001b[1;33m\u001b[0m\u001b[0m\n\u001b[1;32m----> 5\u001b[1;33m \u001b[0mcnt\u001b[0m\u001b[1;33m=\u001b[0m\u001b[0mnum\u001b[0m\u001b[1;33m.\u001b[0m\u001b[0mcount\u001b[0m\u001b[1;33m(\u001b[0m\u001b[0mval\u001b[0m\u001b[1;33m)\u001b[0m\u001b[1;33m\u001b[0m\u001b[1;33m\u001b[0m\u001b[0m\n\u001b[0m\u001b[0;32m      6\u001b[0m \u001b[1;33m\u001b[0m\u001b[0m\n\u001b[0;32m      7\u001b[0m \u001b[0mprint\u001b[0m\u001b[1;33m(\u001b[0m\u001b[1;34m'Original List == '\u001b[0m\u001b[1;33m,\u001b[0m\u001b[0mnum\u001b[0m\u001b[1;33m)\u001b[0m\u001b[1;33m\u001b[0m\u001b[1;33m\u001b[0m\u001b[0m\n",
      "\u001b[1;31mNameError\u001b[0m: name 'num' is not defined"
     ]
    }
   ],
   "source": [
    "#### num = [0,0,0,1,1,1,1,2,2,2,3,4,4,5,6,7,8,8,4,4,8,8,9]\n",
    "\n",
    "val=4\n",
    "\n",
    "cnt=num.count(val)\n",
    "\n",
    "print('Original List == ',num)\n",
    "\n",
    "print('Element to be removed ==' ,val)\n",
    "\n",
    "print('Element occuring times ==', cnt)\n",
    "\n",
    "print('Number of elements in original list ==',len(num))\n",
    "\n",
    "print('Number of remaining elements ==', len(num)-cnt)\n",
    "\n",
    "print('_________________________________________')\n",
    "\n",
    "while val in num:\n",
    "    \n",
    "    eleInstance=num.index(val)\n",
    "    print('Element found at index ==', eleInstance)\n",
    "    \n",
    "    for i in range(eleInstance , len (num)-1):\n",
    "        num[i] = num [i+1]\n",
    "    print('Updated List ==', num)\n",
    "    \n",
    "print('_________________________________________')\n",
    "print('Final list == ', num)\n",
    "print('Remaining Elemnts upto index ==', len(num)- cnt)\n",
    "print(num[:len(num)- cnt])\n",
    "\n",
    "\n",
    "    \n",
    "    \n",
    "    "
   ]
  },
  {
   "cell_type": "markdown",
   "id": "4fa36eeb",
   "metadata": {},
   "source": [
    "- Method:"
   ]
  },
  {
   "cell_type": "code",
   "execution_count": null,
   "id": "e8024fb5",
   "metadata": {},
   "outputs": [],
   "source": [
    "num = [0,0,0,1,1,1,1,2,2,2,3,4,4,5,6,7,8,8,4,4,4,8,8,9]\n",
    "\n",
    "val=4\n",
    "\n",
    "cnt=num.count(val)\n",
    "\n",
    "print('Original List == ',num)\n",
    "\n",
    "print('Element to be removed ==' ,val)\n",
    "\n",
    "print('Element occuring times ==', cnt)\n",
    "\n",
    "print('Number of elements in original list ==',len(num))\n",
    "\n",
    "print('Number of remaining elements ==', len(num)-cnt)\n",
    "\n",
    "print('_________________________________________')\n",
    "\n",
    "while val in num:\n",
    "    \n",
    "    eleInstance=num.index(val)\n",
    "    print('Element found at index ==', eleInstance)\n",
    "    \n",
    "    for i in range(eleInstance+1 , len (num)):\n",
    "        num[i-1] = num [i]\n",
    "    print('Updated List ==', num)\n",
    "    \n",
    "print('_________________________________________')\n",
    "print('Final list == ', num)\n",
    "print('Remaining Elemnts upto index ==', len(num)- cnt)\n",
    "print(num[:len(num)- cnt])\n",
    "\n",
    "\n",
    "    \n",
    "    \n",
    "    "
   ]
  },
  {
   "cell_type": "markdown",
   "id": "7297e5d3",
   "metadata": {},
   "source": [
    "- Method:\n",
    "    \n",
    "    Yet another direction of thought is to consider the elements to be removed as non-existent. In a single pass, if we keep copying the visible elements in-place, that should also solve this problem for us."
   ]
  },
  {
   "cell_type": "code",
   "execution_count": null,
   "id": "018597f3",
   "metadata": {},
   "outputs": [],
   "source": [
    "\n",
    "\n",
    "nums = [0,0,0,1,1,1,1,2,2,2,3,4,4,5,6,7,8,8,4,4,4,8,8,9]\n",
    "\n",
    "val =4\n",
    "\n",
    "l=0\n",
    "\n",
    "for r in range(len(nums)):\n",
    "    if nums[r] != val:\n",
    "        nums[l]=nums[r]\n",
    "        l+=1\n",
    "        \n",
    "print(nums)"
   ]
  },
  {
   "cell_type": "markdown",
   "id": "85b2f0ae",
   "metadata": {},
   "source": [
    "- Method:\n",
    "    \n",
    "    We can move all the occurrences of this element to the end of the array. Use two pointers!"
   ]
  },
  {
   "cell_type": "code",
   "execution_count": 11,
   "id": "9abe152e",
   "metadata": {},
   "outputs": [
    {
     "name": "stdout",
     "output_type": "stream",
     "text": [
      "[1, 1, 1, 0, 2, 2, 2, 3, 1, 1, 5, 6, 7, 5, 5, 1, 1, 1, 2, 8, 8, 9, 2, 2, 1, 1, 1, 1, 1, 1, 1, 1, 4, 4]\n",
      "23\n"
     ]
    }
   ],
   "source": [
    "nums = [4,4,4,0,2,2,2,3,4,4,5,6,7,5,5,4,4,4,4,8,8,9,2,2,1,1,1,1,1,1,1,1,4,4]\n",
    "\n",
    "val =4\n",
    "\n",
    "i = 0\n",
    "\n",
    "n = len(nums)\n",
    "\n",
    "while (i < n): \n",
    "         if nums[i] == val: \n",
    "            nums[i] = nums[n - 1]\n",
    "            n=n-1\n",
    "         else: \n",
    "            i=i+1\n",
    "            \n",
    "# If the number picked from the end of list is the val iteslf then it will be checked in the enxt iteration, \n",
    "# because i is not increased and will be checked again\n",
    "        \n",
    "print(nums)\n",
    "print(i)"
   ]
  },
  {
   "cell_type": "code",
   "execution_count": null,
   "id": "e713ecce",
   "metadata": {},
   "outputs": [],
   "source": []
  },
  {
   "cell_type": "code",
   "execution_count": null,
   "id": "3cbfaeb6",
   "metadata": {},
   "outputs": [],
   "source": []
  }
 ],
 "metadata": {
  "kernelspec": {
   "display_name": "Python 3",
   "language": "python",
   "name": "python3"
  },
  "language_info": {
   "codemirror_mode": {
    "name": "ipython",
    "version": 3
   },
   "file_extension": ".py",
   "mimetype": "text/x-python",
   "name": "python",
   "nbconvert_exporter": "python",
   "pygments_lexer": "ipython3",
   "version": "3.8.8"
  }
 },
 "nbformat": 4,
 "nbformat_minor": 5
}
