{
 "cells": [
  {
   "cell_type": "code",
   "execution_count": 24,
   "id": "e5fcca4b",
   "metadata": {},
   "outputs": [],
   "source": [
    "def threeSumClosest(nums, target):\n",
    "    \n",
    "    print(\"Original Array ===\" ,nums)\n",
    "    nums.sort()\n",
    "    print(\"Sorted Array ===\" ,nums) # sorting for ensuring unique triplets\n",
    "    \n",
    "    closestSum =1000000 \n",
    "    \n",
    "    i = 0\n",
    "    while i <= (len(nums) - 3):\n",
    "        print('###################')\n",
    "        print('i ======',i)\n",
    "        \n",
    "        l,r = i+1 , len(nums) - 1\n",
    "        while l < r :\n",
    "            print ('(l,r)===',(l,r) )\n",
    "            s = nums[i] + nums[l] + nums[r]\n",
    "            print(\"s ===\",s)\n",
    "            print(\"closestSum ===\",closestSum)\n",
    "            \n",
    "            if s ==  target:\n",
    "                print('Sum equal target')\n",
    "                return(0)\n",
    "                \n",
    "            if abs(s-target) <= abs(closestSum-target):\n",
    "                \n",
    "                print('abs(s-target) =====', abs(s-target))\n",
    "                print('abs(closestSum-target) ====',abs(closestSum-target))\n",
    "                \n",
    "                closestSum = s\n",
    "                print('closest sum updated to ===' , closestSum )\n",
    "                \n",
    "                l = l + 1\n",
    "                print('l increased')\n",
    "                print('_______________________')\n",
    "            \n",
    "            elif s < target:\n",
    "                l = l + 1\n",
    "                print(' l incresed')\n",
    "                print('_______________________')\n",
    "                #while nums[l] == nums [l-1] and l<r: l = l+1\n",
    "                    \n",
    "            elif s > target:\n",
    "                 r = r - 1\n",
    "                 print('r decreased')\n",
    "                 print('_______________________')\n",
    "                     \n",
    "        \n",
    "        i = i + 1 \n",
    "        print(' i increased')\n",
    "                \n",
    "    return (closestSum)"
   ]
  },
  {
   "cell_type": "code",
   "execution_count": 25,
   "id": "5eddec3b",
   "metadata": {},
   "outputs": [
    {
     "name": "stdout",
     "output_type": "stream",
     "text": [
      "Original Array === [-1, 2, 1, -4]\n",
      "Sorted Array === [-4, -1, 1, 2]\n",
      "###################\n",
      "i ====== 0\n",
      "(l,r)=== (1, 3)\n",
      "s === -3\n",
      "closestSum === 1000000\n",
      "abs(s-target) ===== 4\n",
      "abs(closestSum-target) ==== 999999\n",
      "closest sum updated to === -3\n",
      "l increased\n",
      "_______________________\n",
      "(l,r)=== (2, 3)\n",
      "s === -1\n",
      "closestSum === -3\n",
      "abs(s-target) ===== 2\n",
      "abs(closestSum-target) ==== 4\n",
      "closest sum updated to === -1\n",
      "l increased\n",
      "_______________________\n",
      " i increased\n",
      "###################\n",
      "i ====== 1\n",
      "(l,r)=== (2, 3)\n",
      "s === 2\n",
      "closestSum === -1\n",
      "abs(s-target) ===== 1\n",
      "abs(closestSum-target) ==== 2\n",
      "closest sum updated to === 2\n",
      "l increased\n",
      "_______________________\n",
      " i increased\n"
     ]
    },
    {
     "data": {
      "text/plain": [
       "2"
      ]
     },
     "execution_count": 25,
     "metadata": {},
     "output_type": "execute_result"
    }
   ],
   "source": [
    "threeSumClosest([-1,2,1,-4],1)"
   ]
  },
  {
   "cell_type": "code",
   "execution_count": 26,
   "id": "89fba1dc",
   "metadata": {},
   "outputs": [
    {
     "name": "stdout",
     "output_type": "stream",
     "text": [
      "Original Array === [0, 0, 0, 0]\n",
      "Sorted Array === [0, 0, 0, 0]\n",
      "###################\n",
      "i ====== 0\n",
      "(l,r)=== (1, 3)\n",
      "s === 0\n",
      "closestSum === 1000000\n",
      "abs(s-target) ===== 1\n",
      "abs(closestSum-target) ==== 999999\n",
      "closest sum updated to === 0\n",
      "l increased\n",
      "_______________________\n",
      "(l,r)=== (2, 3)\n",
      "s === 0\n",
      "closestSum === 0\n",
      "abs(s-target) ===== 1\n",
      "abs(closestSum-target) ==== 1\n",
      "closest sum updated to === 0\n",
      "l increased\n",
      "_______________________\n",
      " i increased\n",
      "###################\n",
      "i ====== 1\n",
      "(l,r)=== (2, 3)\n",
      "s === 0\n",
      "closestSum === 0\n",
      "abs(s-target) ===== 1\n",
      "abs(closestSum-target) ==== 1\n",
      "closest sum updated to === 0\n",
      "l increased\n",
      "_______________________\n",
      " i increased\n"
     ]
    },
    {
     "data": {
      "text/plain": [
       "0"
      ]
     },
     "execution_count": 26,
     "metadata": {},
     "output_type": "execute_result"
    }
   ],
   "source": [
    "threeSumClosest([0,0,0,0],1)"
   ]
  },
  {
   "cell_type": "code",
   "execution_count": null,
   "id": "6f2812de",
   "metadata": {},
   "outputs": [],
   "source": []
  },
  {
   "cell_type": "code",
   "execution_count": null,
   "id": "bbc4a2f9",
   "metadata": {},
   "outputs": [],
   "source": []
  }
 ],
 "metadata": {
  "kernelspec": {
   "display_name": "Python 3",
   "language": "python",
   "name": "python3"
  },
  "language_info": {
   "codemirror_mode": {
    "name": "ipython",
    "version": 3
   },
   "file_extension": ".py",
   "mimetype": "text/x-python",
   "name": "python",
   "nbconvert_exporter": "python",
   "pygments_lexer": "ipython3",
   "version": "3.8.8"
  }
 },
 "nbformat": 4,
 "nbformat_minor": 5
}
