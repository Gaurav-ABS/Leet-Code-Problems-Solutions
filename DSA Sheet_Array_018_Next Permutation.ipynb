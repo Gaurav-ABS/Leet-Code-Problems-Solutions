{
 "cells": [
  {
   "cell_type": "code",
   "execution_count": 35,
   "id": "00e2462b",
   "metadata": {},
   "outputs": [],
   "source": [
    "def nextPermutation(nums):\n",
    "    \n",
    "    #identify the pivot element\n",
    "    i = len(nums) - 2\n",
    "    while i >=0 and (nums[i]>=nums[i+1]):\n",
    "        i = i-1\n",
    "    pivot = nums[i]\n",
    "    print('pivot',pivot)\n",
    "    \n",
    "    #identify the swap element\n",
    "    j= len(nums)-1\n",
    "    while j>i and nums[j]<=pivot:\n",
    "        j=j-1\n",
    "    swap = nums[j]\n",
    "    print('swap with',swap)\n",
    "    \n",
    "    #execute the swap\n",
    "    nums[i],nums[j] = nums[j],nums[i]\n",
    "    print('swaped>>>>',nums)\n",
    "    \n",
    "    #reverse the array to the right of the pivot \n",
    "    nums[i+1:] = reversed(nums[i+1:])\n",
    "    print('reversed>>>',nums)\n",
    "        \n",
    "    #return\n",
    "    \n",
    "    return(\"next permutaion>>>>\",nums)\n",
    "\n",
    "    \n",
    "    \n",
    "    \n",
    "    \n",
    "        "
   ]
  },
  {
   "cell_type": "code",
   "execution_count": 36,
   "id": "9f14c66b",
   "metadata": {},
   "outputs": [
    {
     "name": "stdout",
     "output_type": "stream",
     "text": [
      "pivot 3\n",
      "swap with 5\n",
      "swaped>>>> [1, 3, 4, 5, 5, 3]\n",
      "reversed>>> [1, 3, 4, 5, 5, 3]\n"
     ]
    },
    {
     "data": {
      "text/plain": [
       "('next permutaion>>>>', [1, 3, 4, 5, 5, 3])"
      ]
     },
     "execution_count": 36,
     "metadata": {},
     "output_type": "execute_result"
    }
   ],
   "source": [
    "nextPermutation([1,3,4,5,3,5])"
   ]
  },
  {
   "cell_type": "code",
   "execution_count": 37,
   "id": "f1c6bf3f",
   "metadata": {},
   "outputs": [
    {
     "name": "stdout",
     "output_type": "stream",
     "text": [
      "pivot 4\n",
      "swap with 5\n",
      "swaped>>>> [1, 3, 5, 5, 5, 4]\n",
      "reversed>>> [1, 3, 5, 4, 5, 5]\n"
     ]
    },
    {
     "data": {
      "text/plain": [
       "('next permutaion>>>>', [1, 3, 5, 4, 5, 5])"
      ]
     },
     "execution_count": 37,
     "metadata": {},
     "output_type": "execute_result"
    }
   ],
   "source": [
    "nextPermutation([1,3,4,5,5,5])"
   ]
  },
  {
   "cell_type": "code",
   "execution_count": 38,
   "id": "41c9fe30",
   "metadata": {},
   "outputs": [
    {
     "name": "stdout",
     "output_type": "stream",
     "text": [
      "pivot 4\n",
      "swap with 5\n",
      "swaped>>>> [1, 3, 5, 7, 6, 6, 5, 4]\n",
      "reversed>>> [1, 3, 5, 4, 5, 6, 6, 7]\n"
     ]
    },
    {
     "data": {
      "text/plain": [
       "('next permutaion>>>>', [1, 3, 5, 4, 5, 6, 6, 7])"
      ]
     },
     "execution_count": 38,
     "metadata": {},
     "output_type": "execute_result"
    }
   ],
   "source": [
    "nextPermutation([1,3,4,7,6,6,5,5])"
   ]
  },
  {
   "cell_type": "code",
   "execution_count": null,
   "id": "abef240d",
   "metadata": {},
   "outputs": [],
   "source": []
  }
 ],
 "metadata": {
  "kernelspec": {
   "display_name": "Python 3",
   "language": "python",
   "name": "python3"
  },
  "language_info": {
   "codemirror_mode": {
    "name": "ipython",
    "version": 3
   },
   "file_extension": ".py",
   "mimetype": "text/x-python",
   "name": "python",
   "nbconvert_exporter": "python",
   "pygments_lexer": "ipython3",
   "version": "3.8.8"
  }
 },
 "nbformat": 4,
 "nbformat_minor": 5
}
