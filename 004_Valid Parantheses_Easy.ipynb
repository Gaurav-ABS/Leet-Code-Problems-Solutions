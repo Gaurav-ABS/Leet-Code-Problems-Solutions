{
 "cells": [
  {
   "cell_type": "markdown",
   "id": "b64e1ec4",
   "metadata": {},
   "source": [
    "# Valid Parentheses"
   ]
  },
  {
   "cell_type": "markdown",
   "id": "742c78c4",
   "metadata": {},
   "source": [
    "- Problem description on Leet Code\n",
    "\n",
    "    <a href=\"https://leetcode.com/problems/valid-parentheses/\" > Valid Parentheses </a>"
   ]
  },
  {
   "cell_type": "markdown",
   "id": "5d64f4f3",
   "metadata": {},
   "source": [
    "- Method 1"
   ]
  },
  {
   "cell_type": "code",
   "execution_count": 40,
   "id": "c7b25473",
   "metadata": {},
   "outputs": [
    {
     "name": "stdout",
     "output_type": "stream",
     "text": [
      "0\n",
      "0\n",
      "0 = ] //// 1 [ ::::iteration not matching\n",
      "The input string is valid ==== False\n"
     ]
    }
   ],
   "source": [
    "# This method did not address the problem correctly as it assumed that openeing and closing brackets will \n",
    "# occur in pair only ()  {}   [] and not in nested [{()}] format\n",
    "# Method 2 addreses the problem correctly\n",
    "\n",
    "\n",
    "\n",
    "refDic={'(':')' , '{':'}' , '[':']'}\n",
    "\n",
    "refDic\n",
    "\n",
    "\n",
    "inputStr= '][}(){}[]'\n",
    "\n",
    "validity=True\n",
    "\n",
    "j=0\n",
    "\n",
    "\n",
    "for i in range(len(inputStr)):\n",
    "    \n",
    "    j=i*2\n",
    "    print (i)\n",
    "    print (j)\n",
    "    \n",
    "    \n",
    "    \n",
    "    if inputStr[(j)] in refDic and inputStr[j+1]==refDic[inputStr[j]]:\n",
    "        \n",
    "        print(j,'=',inputStr[j],'////',j+1,inputStr[j+1],'::::' 'iteration matching')\n",
    "        \n",
    "        print('_____')\n",
    "        \n",
    "        \n",
    "        \n",
    "        continue\n",
    "    else:\n",
    "        print(j,'=',inputStr[j],'////',j+1,inputStr[j+1],'::::' 'iteration not matching')\n",
    "        validity=False\n",
    "        break\n",
    "        \n",
    "print('The input string is valid ====', validity)\n",
    "\n",
    "\n",
    "    \n",
    "    \n",
    "        \n",
    "        "
   ]
  },
  {
   "cell_type": "markdown",
   "id": "3665daf3",
   "metadata": {},
   "source": [
    "- Method 2"
   ]
  },
  {
   "cell_type": "code",
   "execution_count": 57,
   "id": "00246050",
   "metadata": {},
   "outputs": [
    {
     "name": "stdout",
     "output_type": "stream",
     "text": [
      " { } [      ] [ [ [ ] ] ] }\n",
      "{}[][[[]]]}\n",
      "11\n",
      "***False\n",
      "{}[][[[]]]}\n",
      "{}[[]]}\n",
      "[[]]}\n",
      "[[]]}\n",
      "[]}\n",
      "[]}\n",
      "[]}\n",
      "}\n",
      "}\n",
      "}\n",
      "}\n",
      "}\n",
      "*False\n"
     ]
    }
   ],
   "source": [
    "        s=\" { } [      ] [ [ [ ] ] ] }\"\n",
    "    \n",
    "        print(s)\n",
    "        \n",
    "        ss=s.replace(\" \",\"\")\n",
    "        \n",
    "        print(ss)\n",
    "        \n",
    "        print(len(ss))\n",
    "\n",
    "        if len(s)%2!=0:\n",
    "            print ('***False')\n",
    "        \n",
    "        new_len=0\n",
    "        str_len=len(ss)\n",
    "        while new_len<str_len:\n",
    "            str_len=len(ss)\n",
    "            ss=ss.replace('()','')\n",
    "            print(ss)\n",
    "            ss=ss.replace('[]','')\n",
    "            print(ss)\n",
    "            ss=ss.replace('{}','')\n",
    "            print(ss)\n",
    "            new_len=len(ss)\n",
    "       \n",
    "        if len(ss)==0:\n",
    "            print('True') \n",
    "        else:\n",
    "            print('*False')\n",
    "    \n",
    "   "
   ]
  },
  {
   "cell_type": "code",
   "execution_count": null,
   "id": "a68c44ec",
   "metadata": {},
   "outputs": [],
   "source": []
  },
  {
   "cell_type": "code",
   "execution_count": null,
   "id": "ea73209e",
   "metadata": {},
   "outputs": [],
   "source": []
  }
 ],
 "metadata": {
  "kernelspec": {
   "display_name": "Python 3",
   "language": "python",
   "name": "python3"
  },
  "language_info": {
   "codemirror_mode": {
    "name": "ipython",
    "version": 3
   },
   "file_extension": ".py",
   "mimetype": "text/x-python",
   "name": "python",
   "nbconvert_exporter": "python",
   "pygments_lexer": "ipython3",
   "version": "3.8.8"
  }
 },
 "nbformat": 4,
 "nbformat_minor": 5
}
