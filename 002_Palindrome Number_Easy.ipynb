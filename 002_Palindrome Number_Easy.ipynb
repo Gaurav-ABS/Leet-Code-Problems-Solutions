{
 "cells": [
  {
   "cell_type": "markdown",
   "id": "6c13874d",
   "metadata": {},
   "source": [
    "# Palindrome Number\n",
    "\n",
    "- Problem Description on Leetcode\n",
    "\n",
    "  <a href =\"https://leetcode.com/problems/palindrome-number/\" > Palindrome Number </a>"
   ]
  },
  {
   "cell_type": "markdown",
   "id": "0be2b9f0",
   "metadata": {},
   "source": [
    "- Method 1:"
   ]
  },
  {
   "cell_type": "code",
   "execution_count": 60,
   "id": "e06a6947",
   "metadata": {},
   "outputs": [],
   "source": [
    "# Input the number and type cast to string\n",
    "\n",
    "x=1234321\n",
    "x_str=str(x)"
   ]
  },
  {
   "cell_type": "code",
   "execution_count": 61,
   "id": "db888c4e",
   "metadata": {},
   "outputs": [],
   "source": [
    "# Determinning the iteration value depending on whether number of digits are odd or even\n",
    "\n",
    "length = len(x_str)\n",
    "\n",
    "if length%2==0:\n",
    "    itrn_rng=(length/2)-1\n",
    "    #print(itrn_rng)\n",
    "else:\n",
    "    itrn_rng=((length+1)/2)-2\n",
    "    #print(itrn_rng)\n",
    "    \n",
    "    \n",
    "    "
   ]
  },
  {
   "cell_type": "code",
   "execution_count": 63,
   "id": "658257ab",
   "metadata": {},
   "outputs": [
    {
     "name": "stdout",
     "output_type": "stream",
     "text": [
      "['1', '2', '3', '4', '3', '2', '1']\n"
     ]
    }
   ],
   "source": [
    "# Tytpecast to list\n",
    "\n",
    "x_list=list(x_str)\n",
    "print(x_list)\n"
   ]
  },
  {
   "cell_type": "code",
   "execution_count": 64,
   "id": "eba25d41",
   "metadata": {},
   "outputs": [
    {
     "name": "stdout",
     "output_type": "stream",
     "text": [
      "1 1\n",
      "2 2\n",
      "3 3\n",
      "4 4\n",
      "3 3\n",
      "2 2\n",
      "1 1\n"
     ]
    }
   ],
   "source": [
    "# Access and compare the individual digits\n",
    "\n",
    "for i in range(len(x_str)):\n",
    "    a=x_list[i]\n",
    "    b=x_list[length-1-i]\n",
    "    print(a,b)\n",
    "    if a!=b:\n",
    "        print('Not Palindrome')\n",
    "    else :\n",
    "        continue\n",
    "        break\n",
    "#print('Palindrome')"
   ]
  },
  {
   "cell_type": "code",
   "execution_count": null,
   "id": "c1982b63",
   "metadata": {},
   "outputs": [],
   "source": []
  },
  {
   "cell_type": "code",
   "execution_count": null,
   "id": "e05593b5",
   "metadata": {},
   "outputs": [],
   "source": []
  }
 ],
 "metadata": {
  "kernelspec": {
   "display_name": "Python 3",
   "language": "python",
   "name": "python3"
  },
  "language_info": {
   "codemirror_mode": {
    "name": "ipython",
    "version": 3
   },
   "file_extension": ".py",
   "mimetype": "text/x-python",
   "name": "python",
   "nbconvert_exporter": "python",
   "pygments_lexer": "ipython3",
   "version": "3.8.8"
  }
 },
 "nbformat": 4,
 "nbformat_minor": 5
}
