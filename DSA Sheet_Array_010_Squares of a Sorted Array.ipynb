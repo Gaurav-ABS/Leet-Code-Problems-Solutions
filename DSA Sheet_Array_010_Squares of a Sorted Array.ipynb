{
 "cells": [
  {
   "cell_type": "code",
   "execution_count": 6,
   "id": "1201c15c",
   "metadata": {},
   "outputs": [],
   "source": [
    "def sortedSquares(nums):\n",
    "    \n",
    "    sqrArray = [0]*len(nums)\n",
    "    \n",
    "    l=0\n",
    "    \n",
    "    r=len(nums) - 1\n",
    "    \n",
    "    for i in reversed(range(len(sqrArray))):\n",
    "        \n",
    "        print (i)\n",
    "        \n",
    "        if abs(nums[l]) > abs(nums[r]):\n",
    "            sqrArray [i] = nums[l] * nums[l]\n",
    "            l = l+1\n",
    "        else:\n",
    "            sqrArray [i] = nums[r] * nums[r]\n",
    "            r = r-1\n",
    "            \n",
    "    return (sqrArray)"
   ]
  },
  {
   "cell_type": "code",
   "execution_count": 7,
   "id": "aee3a995",
   "metadata": {},
   "outputs": [
    {
     "name": "stdout",
     "output_type": "stream",
     "text": [
      "4\n",
      "3\n",
      "2\n",
      "1\n",
      "0\n"
     ]
    },
    {
     "data": {
      "text/plain": [
       "[0, 1, 9, 16, 100]"
      ]
     },
     "execution_count": 7,
     "metadata": {},
     "output_type": "execute_result"
    }
   ],
   "source": [
    "sortedSquares([-4,-1,0,3,10])"
   ]
  },
  {
   "cell_type": "code",
   "execution_count": 8,
   "id": "16bf3f6d",
   "metadata": {},
   "outputs": [
    {
     "name": "stdout",
     "output_type": "stream",
     "text": [
      "4\n",
      "3\n",
      "2\n",
      "1\n",
      "0\n"
     ]
    },
    {
     "data": {
      "text/plain": [
       "[4, 9, 9, 49, 121]"
      ]
     },
     "execution_count": 8,
     "metadata": {},
     "output_type": "execute_result"
    }
   ],
   "source": [
    "sortedSquares([-7,-3,2,3,11])"
   ]
  },
  {
   "cell_type": "code",
   "execution_count": null,
   "id": "3f540fc7",
   "metadata": {},
   "outputs": [],
   "source": []
  }
 ],
 "metadata": {
  "kernelspec": {
   "display_name": "Python 3",
   "language": "python",
   "name": "python3"
  },
  "language_info": {
   "codemirror_mode": {
    "name": "ipython",
    "version": 3
   },
   "file_extension": ".py",
   "mimetype": "text/x-python",
   "name": "python",
   "nbconvert_exporter": "python",
   "pygments_lexer": "ipython3",
   "version": "3.8.8"
  }
 },
 "nbformat": 4,
 "nbformat_minor": 5
}
