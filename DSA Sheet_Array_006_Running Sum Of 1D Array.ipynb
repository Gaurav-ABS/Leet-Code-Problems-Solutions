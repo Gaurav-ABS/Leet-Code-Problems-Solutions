{
 "cells": [
  {
   "cell_type": "code",
   "execution_count": 1,
   "id": "2f26db91",
   "metadata": {},
   "outputs": [],
   "source": [
    "# modifying the original array Method 1\n",
    "\n",
    "def runningSum(nums):\n",
    "        i = 1\n",
    "        while i<len(nums):\n",
    "            nums[i] = nums[i] + nums[i-1]\n",
    "            i= i + 1\n",
    "        return nums"
   ]
  },
  {
   "cell_type": "code",
   "execution_count": 2,
   "id": "d9a0cc08",
   "metadata": {},
   "outputs": [
    {
     "data": {
      "text/plain": [
       "[1, 2, 3, 4, 5]"
      ]
     },
     "execution_count": 2,
     "metadata": {},
     "output_type": "execute_result"
    }
   ],
   "source": [
    "runningSum([1,1,1,1,1])"
   ]
  },
  {
   "cell_type": "code",
   "execution_count": 14,
   "id": "6ac15324",
   "metadata": {},
   "outputs": [],
   "source": [
    "# without changing original array Method 2\n",
    "\n",
    "def runningSum(nums):\n",
    "    \n",
    "        res = [nums[0]] + [0] * (len(nums) - 1) # creating a list res with first element and rest as zero\n",
    "        #print (res)\n",
    "        \n",
    "        for i, num in enumerate(nums[1:]):\n",
    "            print(list(enumerate(nums[1:])))\n",
    "            \n",
    "            \n",
    "            #res[i + 1] = res[i+1] + res[i] + num\n",
    "            res[i + 1] = res[i] + num\n",
    "            print(res)\n",
    "            \n",
    "        return res"
   ]
  },
  {
   "cell_type": "code",
   "execution_count": 16,
   "id": "eab3419a",
   "metadata": {},
   "outputs": [
    {
     "name": "stdout",
     "output_type": "stream",
     "text": [
      "[(0, 1), (1, 2), (2, 10), (3, 1)]\n",
      "[3, 4, 0, 0, 0]\n",
      "[(0, 1), (1, 2), (2, 10), (3, 1)]\n",
      "[3, 4, 6, 0, 0]\n",
      "[(0, 1), (1, 2), (2, 10), (3, 1)]\n",
      "[3, 4, 6, 16, 0]\n",
      "[(0, 1), (1, 2), (2, 10), (3, 1)]\n",
      "[3, 4, 6, 16, 17]\n"
     ]
    },
    {
     "data": {
      "text/plain": [
       "[3, 4, 6, 16, 17]"
      ]
     },
     "execution_count": 16,
     "metadata": {},
     "output_type": "execute_result"
    }
   ],
   "source": [
    "runningSum([3,1,2,10,1])"
   ]
  },
  {
   "cell_type": "code",
   "execution_count": 17,
   "id": "0f739c9e",
   "metadata": {},
   "outputs": [],
   "source": [
    "# without changing original array Method 3\n",
    "\n",
    "def runningSum(nums):\n",
    "    \n",
    "        res = [nums[0]] + [0] * (len(nums) - 1) # creating a list res with first element and rest as zero\n",
    "        \n",
    "        for i in range(1,len(nums)) :           \n",
    "            res[i] = res[i - 1] + nums[i]\n",
    "            print(res)\n",
    "            \n",
    "        return res"
   ]
  },
  {
   "cell_type": "code",
   "execution_count": 18,
   "id": "35ee3576",
   "metadata": {},
   "outputs": [
    {
     "name": "stdout",
     "output_type": "stream",
     "text": [
      "[3, 4, 0, 0, 0]\n",
      "[3, 4, 6, 0, 0]\n",
      "[3, 4, 6, 16, 0]\n",
      "[3, 4, 6, 16, 17]\n"
     ]
    },
    {
     "data": {
      "text/plain": [
       "[3, 4, 6, 16, 17]"
      ]
     },
     "execution_count": 18,
     "metadata": {},
     "output_type": "execute_result"
    }
   ],
   "source": [
    "runningSum([3,1,2,10,1])"
   ]
  },
  {
   "cell_type": "code",
   "execution_count": null,
   "id": "ed3f43a3",
   "metadata": {},
   "outputs": [],
   "source": []
  }
 ],
 "metadata": {
  "kernelspec": {
   "display_name": "Python 3",
   "language": "python",
   "name": "python3"
  },
  "language_info": {
   "codemirror_mode": {
    "name": "ipython",
    "version": 3
   },
   "file_extension": ".py",
   "mimetype": "text/x-python",
   "name": "python",
   "nbconvert_exporter": "python",
   "pygments_lexer": "ipython3",
   "version": "3.8.8"
  }
 },
 "nbformat": 4,
 "nbformat_minor": 5
}
