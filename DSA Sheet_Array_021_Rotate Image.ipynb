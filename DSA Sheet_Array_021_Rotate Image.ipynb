{
 "cells": [
  {
   "cell_type": "code",
   "execution_count": 31,
   "id": "748031ad",
   "metadata": {},
   "outputs": [],
   "source": [
    "def rotateImage(matrix):\n",
    "    \n",
    "    left,right=0,len(matrix)-1\n",
    "    \n",
    "    while left<right:\n",
    "        for i in range(right-left):\n",
    "            top,bottom = left,right\n",
    "            \n",
    "            topLeft = matrix[top][left+i]\n",
    "            \n",
    "            #move bottom left into top left\n",
    "            matrix[top][left+i] = matrix[bottom-i][left]\n",
    "            \n",
    "            #move bottom right into bottom left\n",
    "            matrix[bottom-i][left] = matrix[bottom][right-i]\n",
    "            \n",
    "            #move top right to bottom right\n",
    "            matrix[bottom][right-i] = matrix[top+i][right]\n",
    "            \n",
    "            #move top left to top rightt\n",
    "            matrix[top+i][right] = topLeft\n",
    "            \n",
    "        right = right-1\n",
    "        left =left+1\n",
    "        \n",
    "    print(matrix)"
   ]
  },
  {
   "cell_type": "code",
   "execution_count": 32,
   "id": "b83e4c7e",
   "metadata": {},
   "outputs": [
    {
     "name": "stdout",
     "output_type": "stream",
     "text": [
      "[[15, 13, 2, 5], [14, 3, 4, 1], [12, 6, 8, 9], [16, 7, 10, 11]]\n"
     ]
    }
   ],
   "source": [
    "rotateImage([[5,1,9,11],[2,4,8,10],[13,3,6,7],[15,14,12,16]])"
   ]
  },
  {
   "cell_type": "code",
   "execution_count": null,
   "id": "690b7b7c",
   "metadata": {},
   "outputs": [],
   "source": []
  }
 ],
 "metadata": {
  "kernelspec": {
   "display_name": "Python 3",
   "language": "python",
   "name": "python3"
  },
  "language_info": {
   "codemirror_mode": {
    "name": "ipython",
    "version": 3
   },
   "file_extension": ".py",
   "mimetype": "text/x-python",
   "name": "python",
   "nbconvert_exporter": "python",
   "pygments_lexer": "ipython3",
   "version": "3.8.8"
  }
 },
 "nbformat": 4,
 "nbformat_minor": 5
}
