{
 "cells": [
  {
   "cell_type": "markdown",
   "id": "71555ebc",
   "metadata": {},
   "source": [
    "# Search insert position\n",
    "\n",
    "- Problem Description on Leetcode\n",
    "\n",
    "  <a href =\"https://leetcode.com/problems/search-insert-position/\" > Search insert position </a>"
   ]
  },
  {
   "cell_type": "markdown",
   "id": "ddd8b130",
   "metadata": {},
   "source": [
    "- Method:"
   ]
  },
  {
   "cell_type": "code",
   "execution_count": 25,
   "id": "a2b70b34",
   "metadata": {},
   "outputs": [
    {
     "name": "stdout",
     "output_type": "stream",
     "text": [
      "Insert at index === 12\n",
      "Orginal === [0, 1, 2, 3, 5, 7, 8, 10, 33, 47, 60, 78]\n",
      "Updated === [0, 1, 2, 3, 5, 7, 8, 10, 33, 47, 60, 78, 99]\n"
     ]
    }
   ],
   "source": [
    "nums=[0,1,2,3,5,7,8,10,33,47,60,78]\n",
    "target = 99\n",
    "var = False\n",
    "\n",
    "for i in range(len(nums)):\n",
    "    if nums[i]-target == 0:\n",
    "        print (\"Found at index ===\" , i)\n",
    "        var=True\n",
    "        break\n",
    "        \n",
    "    elif nums[i]>target :\n",
    "        print(\"Insert at index ===\" , i)\n",
    "        print(\"Orginal ===\" , nums)\n",
    "        nums.insert(i,target)\n",
    "        print(\"Updated ===\" , nums)\n",
    "        var=True\n",
    "        break\n",
    "        \n",
    "    elif i == (len(nums) -1):\n",
    "        \n",
    "        print(\"Insert at index ===\" , i+1)\n",
    "        print(\"Orginal ===\" , nums)\n",
    "        nums.insert(i+1,target)\n",
    "        print(\"Updated ===\" , nums)\n",
    "    \n",
    "    else:\n",
    "        continue\n",
    "        \n",
    "\n",
    "     \n",
    "\n"
   ]
  },
  {
   "cell_type": "markdown",
   "id": "ce7dbf1f",
   "metadata": {},
   "source": [
    "- Method:"
   ]
  },
  {
   "cell_type": "code",
   "execution_count": 34,
   "id": "640594db",
   "metadata": {},
   "outputs": [
    {
     "name": "stdout",
     "output_type": "stream",
     "text": [
      "Not found\n",
      "[0, 3, 4, 5, 6, 7, 8, 9]\n"
     ]
    }
   ],
   "source": [
    "# Recursive Binary Search for O(log(n))\n",
    "\n",
    "def binarySearch(nums, target, low, high):\n",
    "\n",
    "    if high >= low:\n",
    "\n",
    "        mid = low + (high - low)//2\n",
    "\n",
    "        # If found at mid, then return it\n",
    "        if nums[mid] == target:\n",
    "            return mid\n",
    "\n",
    "        # Search the left half\n",
    "        elif nums[mid] > target:\n",
    "            return binarySearch(nums, target, low, mid-1)\n",
    "\n",
    "        # Search the right half\n",
    "        else:\n",
    "            return binarySearch(nums, target, mid + 1, high)\n",
    "\n",
    "    else:\n",
    "        return -1\n",
    "    \n",
    "    \n",
    "nums = [3, 4, 5, 6, 7, 8, 9]\n",
    "target = 0\n",
    "\n",
    "result = binarySearch(nums , target , 0 , len(nums)-1)\n",
    "\n",
    "if result != -1:\n",
    "    print(\"Element is present at index \" + str(result))\n",
    "else:\n",
    "    print(\"Not found\")\n",
    "    nums.append(target)\n",
    "    nums.sort()\n",
    "    print(nums)"
   ]
  },
  {
   "cell_type": "markdown",
   "id": "02d72a69",
   "metadata": {},
   "source": [
    "- Method:"
   ]
  },
  {
   "cell_type": "code",
   "execution_count": 36,
   "id": "9f578a79",
   "metadata": {},
   "outputs": [
    {
     "name": "stdout",
     "output_type": "stream",
     "text": [
      "Not found\n",
      "[0, 3, 4, 5, 6, 7, 8, 9]\n"
     ]
    }
   ],
   "source": [
    "# Iterative Binary Search for O(log(n))\n",
    "\n",
    "def binarySearch(nums, target, low, high):\n",
    "\n",
    "    # Repeat until the pointers low and high meet each other\n",
    "    while low <= high:\n",
    "\n",
    "        mid = low + (high - low)//2\n",
    "\n",
    "        if nums[mid] == target:\n",
    "            return mid\n",
    "\n",
    "        elif nums[mid] < target:\n",
    "            low = mid + 1\n",
    "\n",
    "        else:\n",
    "            high = mid - 1\n",
    "\n",
    "    return -1\n",
    "\n",
    "nums = [3, 4, 5, 6, 7, 8, 9]\n",
    "target = 0\n",
    "\n",
    "result = binarySearch(nums , target , 0 , len(nums)-1)\n",
    "\n",
    "if result != -1:\n",
    "    print(\"Element is present at index \" + str(result))\n",
    "else:\n",
    "    print(\"Not found\")\n",
    "    nums.append(target)\n",
    "    nums.sort()\n",
    "    print(nums)"
   ]
  },
  {
   "cell_type": "code",
   "execution_count": null,
   "id": "85a88e44",
   "metadata": {},
   "outputs": [],
   "source": []
  }
 ],
 "metadata": {
  "kernelspec": {
   "display_name": "Python 3",
   "language": "python",
   "name": "python3"
  },
  "language_info": {
   "codemirror_mode": {
    "name": "ipython",
    "version": 3
   },
   "file_extension": ".py",
   "mimetype": "text/x-python",
   "name": "python",
   "nbconvert_exporter": "python",
   "pygments_lexer": "ipython3",
   "version": "3.8.8"
  }
 },
 "nbformat": 4,
 "nbformat_minor": 5
}
