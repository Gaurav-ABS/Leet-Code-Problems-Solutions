{
 "cells": [
  {
   "cell_type": "code",
   "execution_count": 17,
   "id": "fba17a8b",
   "metadata": {},
   "outputs": [],
   "source": [
    "def mergeIntervals(intervals):\n",
    "    \n",
    "    uniqueIntervals = [intervals[0]]\n",
    "    \n",
    "    i = 1\n",
    "    \n",
    "    u = 0\n",
    "    \n",
    "    while i < (len(intervals)):\n",
    "        if (intervals[i][0]) <= (uniqueIntervals[u][1]):\n",
    "            uniqueIntervals[u][1] = intervals[i][1]\n",
    "            print ('#')\n",
    "            print(uniqueIntervals)\n",
    "            i = i + 1\n",
    "        \n",
    "        else:\n",
    "            uniqueIntervals.append(intervals[i])\n",
    "            print ('##')\n",
    "            print(uniqueIntervals)\n",
    "            i = i + 1\n",
    "            u = u + 1\n",
    "\n",
    "\n",
    "            \n",
    "            \n",
    "    return (uniqueIntervals)\n",
    "            \n",
    "                        "
   ]
  },
  {
   "cell_type": "code",
   "execution_count": 18,
   "id": "b3f712eb",
   "metadata": {},
   "outputs": [
    {
     "name": "stdout",
     "output_type": "stream",
     "text": [
      "#\n",
      "[[1, 6]]\n",
      "##\n",
      "[[1, 6], [8, 10]]\n",
      "##\n",
      "[[1, 6], [8, 10], [15, 18]]\n"
     ]
    },
    {
     "data": {
      "text/plain": [
       "[[1, 6], [8, 10], [15, 18]]"
      ]
     },
     "execution_count": 18,
     "metadata": {},
     "output_type": "execute_result"
    }
   ],
   "source": [
    "mergeIntervals([[1,3],[2,6],[8,10],[15,18]])"
   ]
  },
  {
   "cell_type": "code",
   "execution_count": 19,
   "id": "06fae0ce",
   "metadata": {},
   "outputs": [
    {
     "name": "stdout",
     "output_type": "stream",
     "text": [
      "#\n",
      "[[1, 5]]\n"
     ]
    },
    {
     "data": {
      "text/plain": [
       "[[1, 5]]"
      ]
     },
     "execution_count": 19,
     "metadata": {},
     "output_type": "execute_result"
    }
   ],
   "source": [
    "mergeIntervals([[1,4],[4,5]])"
   ]
  },
  {
   "cell_type": "code",
   "execution_count": null,
   "id": "e6aa75a0",
   "metadata": {},
   "outputs": [],
   "source": []
  }
 ],
 "metadata": {
  "kernelspec": {
   "display_name": "Python 3",
   "language": "python",
   "name": "python3"
  },
  "language_info": {
   "codemirror_mode": {
    "name": "ipython",
    "version": 3
   },
   "file_extension": ".py",
   "mimetype": "text/x-python",
   "name": "python",
   "nbconvert_exporter": "python",
   "pygments_lexer": "ipython3",
   "version": "3.8.8"
  }
 },
 "nbformat": 4,
 "nbformat_minor": 5
}
