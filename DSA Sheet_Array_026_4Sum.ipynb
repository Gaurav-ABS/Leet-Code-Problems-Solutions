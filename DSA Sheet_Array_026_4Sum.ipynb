{
 "cells": [
  {
   "cell_type": "code",
   "execution_count": 9,
   "id": "6666aee8",
   "metadata": {},
   "outputs": [],
   "source": [
    "def FourSum(nums,target):\n",
    "    nums.sort()\n",
    "    res , quad =[],[]\n",
    "    \n",
    "    def kSum(k, start, target):\n",
    "        if k !=2:\n",
    "            for i in range(start, len(nums) - k +1):\n",
    "                \n",
    "                if i> start and nums[i] == nums[i-1]:\n",
    "                    continue\n",
    "                    \n",
    "                quad.append(nums[i])\n",
    "                kSum(k-1,i+1,target - nums[i])\n",
    "                quad.pop()\n",
    "            return\n",
    "        \n",
    "        # base case k==2\n",
    "        \n",
    "        l,r = start , len(nums) -1\n",
    "        while l<r:\n",
    "            if nums[l] + nums[r] < target:\n",
    "                l = l + 1\n",
    "            elif nums[l] + nums[r] > target:\n",
    "                r = r - 1\n",
    "            else:\n",
    "                res.append(quad + [nums[l],nums[r]])\n",
    "                l = l + 1\n",
    "                while l<r and nums[l] == nums [l-1]:\n",
    "                    l = l + 1\n",
    "                    \n",
    "    kSum(4,0,target)\n",
    "    return res"
   ]
  },
  {
   "cell_type": "code",
   "execution_count": 10,
   "id": "9ca32542",
   "metadata": {},
   "outputs": [
    {
     "data": {
      "text/plain": [
       "[[-2, -1, 1, 2], [-2, 0, 0, 2], [-1, 0, 0, 1]]"
      ]
     },
     "execution_count": 10,
     "metadata": {},
     "output_type": "execute_result"
    }
   ],
   "source": [
    "FourSum([1,0,-1,0,-2,2],0)"
   ]
  },
  {
   "cell_type": "code",
   "execution_count": 6,
   "id": "c23d5a38",
   "metadata": {},
   "outputs": [
    {
     "data": {
      "text/plain": [
       "[[2, 2, 2, 2]]"
      ]
     },
     "execution_count": 6,
     "metadata": {},
     "output_type": "execute_result"
    }
   ],
   "source": [
    "FourSum([2,2,2,2],8)"
   ]
  },
  {
   "cell_type": "code",
   "execution_count": null,
   "id": "cc629498",
   "metadata": {},
   "outputs": [],
   "source": []
  }
 ],
 "metadata": {
  "kernelspec": {
   "display_name": "Python 3",
   "language": "python",
   "name": "python3"
  },
  "language_info": {
   "codemirror_mode": {
    "name": "ipython",
    "version": 3
   },
   "file_extension": ".py",
   "mimetype": "text/x-python",
   "name": "python",
   "nbconvert_exporter": "python",
   "pygments_lexer": "ipython3",
   "version": "3.8.8"
  }
 },
 "nbformat": 4,
 "nbformat_minor": 5
}
