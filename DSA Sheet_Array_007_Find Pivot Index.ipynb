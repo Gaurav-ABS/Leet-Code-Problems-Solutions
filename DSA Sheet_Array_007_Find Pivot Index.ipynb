{
 "cells": [
  {
   "cell_type": "code",
   "execution_count": 3,
   "id": "0acca889",
   "metadata": {},
   "outputs": [],
   "source": [
    "# method 1\n",
    "\n",
    "\n",
    "def pivotIndex(nums):\n",
    "    leftSum = 0\n",
    "    rightSum = sum(nums[1:]) \n",
    "    pivotIndex = -1\n",
    "    \n",
    "    if leftSum == rightSum:     \n",
    "        pivotIndex = 0\n",
    "        return (pivotIndex)\n",
    "    \n",
    "    for i in range(1,len(nums)):\n",
    "               \n",
    "        print('Index === ',i)\n",
    "        print('Number === ',nums[i])\n",
    "        \n",
    "        leftSum = leftSum + nums[i-1]\n",
    "        print('leftSum === ',leftSum)\n",
    "        \n",
    "        rightSum = rightSum - nums [i]\n",
    "        print('rightSum === ', rightSum)\n",
    "    \n",
    "        if leftSum == rightSum: \n",
    "            print('**********')\n",
    "            pivotIndex = i\n",
    "            return (pivotIndex)\n",
    "        \n",
    "\n",
    "    return(pivotIndex)\n",
    "            \n",
    "    \n",
    "        \n",
    "    \n",
    "        \n",
    "            "
   ]
  },
  {
   "cell_type": "code",
   "execution_count": 4,
   "id": "9df0790e",
   "metadata": {},
   "outputs": [
    {
     "name": "stdout",
     "output_type": "stream",
     "text": [
      "Index ===  1\n",
      "Number ===  7\n",
      "leftSum ===  1\n",
      "rightSum ===  20\n",
      "Index ===  2\n",
      "Number ===  3\n",
      "leftSum ===  8\n",
      "rightSum ===  17\n",
      "Index ===  3\n",
      "Number ===  6\n",
      "leftSum ===  11\n",
      "rightSum ===  11\n",
      "**********\n"
     ]
    },
    {
     "data": {
      "text/plain": [
       "3"
      ]
     },
     "execution_count": 4,
     "metadata": {},
     "output_type": "execute_result"
    }
   ],
   "source": [
    "pivotIndex([1,7,3,6,5,6])"
   ]
  },
  {
   "cell_type": "code",
   "execution_count": 5,
   "id": "2047d721",
   "metadata": {},
   "outputs": [
    {
     "name": "stdout",
     "output_type": "stream",
     "text": [
      "Index ===  1\n",
      "Number ===  2\n",
      "leftSum ===  1\n",
      "rightSum ===  3\n",
      "Index ===  2\n",
      "Number ===  3\n",
      "leftSum ===  3\n",
      "rightSum ===  0\n"
     ]
    },
    {
     "data": {
      "text/plain": [
       "-1"
      ]
     },
     "execution_count": 5,
     "metadata": {},
     "output_type": "execute_result"
    }
   ],
   "source": [
    "pivotIndex([1,2,3])"
   ]
  },
  {
   "cell_type": "code",
   "execution_count": 6,
   "id": "820d2fc3",
   "metadata": {},
   "outputs": [
    {
     "data": {
      "text/plain": [
       "0"
      ]
     },
     "execution_count": 6,
     "metadata": {},
     "output_type": "execute_result"
    }
   ],
   "source": [
    "pivotIndex([2,1,-1])"
   ]
  },
  {
   "cell_type": "code",
   "execution_count": 11,
   "id": "f4f4850f",
   "metadata": {},
   "outputs": [],
   "source": [
    "# method 2 \n",
    "\n",
    "# slightly different\n",
    "\n",
    "\n",
    "def pivotIndex(nums):\n",
    "    leftSum = 0\n",
    "    total = sum(nums)\n",
    "    \n",
    "      \n",
    "    for i in range(len(nums)):\n",
    "        \n",
    "        rightSum = total - leftSum - nums[i]\n",
    "        \n",
    "        print('Index ===', i)\n",
    "        print('Number ===' , nums[i])\n",
    "        print('rightSum ===',rightSum)\n",
    "        print('leftSum ===' ,leftSum)\n",
    "        \n",
    "        if leftSum == rightSum:\n",
    "            return(i)\n",
    "        leftSum = leftSum + nums[i]\n",
    "        \n",
    "    return(-1)\n",
    "        \n",
    "        \n",
    "               \n",
    "    \n",
    "    \n",
    "        \n",
    "    \n",
    "        \n",
    "            "
   ]
  },
  {
   "cell_type": "code",
   "execution_count": 12,
   "id": "3fb15204",
   "metadata": {},
   "outputs": [
    {
     "name": "stdout",
     "output_type": "stream",
     "text": [
      "Index === 0\n",
      "Number === 1\n",
      "rightSum === 27\n",
      "leftSum === 0\n",
      "Index === 1\n",
      "Number === 7\n",
      "rightSum === 20\n",
      "leftSum === 1\n",
      "Index === 2\n",
      "Number === 3\n",
      "rightSum === 17\n",
      "leftSum === 8\n",
      "Index === 3\n",
      "Number === 6\n",
      "rightSum === 11\n",
      "leftSum === 11\n"
     ]
    },
    {
     "data": {
      "text/plain": [
       "3"
      ]
     },
     "execution_count": 12,
     "metadata": {},
     "output_type": "execute_result"
    }
   ],
   "source": [
    "pivotIndex([1,7,3,6,5,6])"
   ]
  },
  {
   "cell_type": "code",
   "execution_count": 13,
   "id": "24be0856",
   "metadata": {},
   "outputs": [
    {
     "name": "stdout",
     "output_type": "stream",
     "text": [
      "Index === 0\n",
      "Number === 1\n",
      "rightSum === 5\n",
      "leftSum === 0\n",
      "Index === 1\n",
      "Number === 2\n",
      "rightSum === 3\n",
      "leftSum === 1\n",
      "Index === 2\n",
      "Number === 3\n",
      "rightSum === 0\n",
      "leftSum === 3\n"
     ]
    },
    {
     "data": {
      "text/plain": [
       "-1"
      ]
     },
     "execution_count": 13,
     "metadata": {},
     "output_type": "execute_result"
    }
   ],
   "source": [
    "pivotIndex([1,2,3])"
   ]
  },
  {
   "cell_type": "code",
   "execution_count": 14,
   "id": "ed78d032",
   "metadata": {},
   "outputs": [
    {
     "name": "stdout",
     "output_type": "stream",
     "text": [
      "Index === 0\n",
      "Number === 2\n",
      "rightSum === 0\n",
      "leftSum === 0\n"
     ]
    },
    {
     "data": {
      "text/plain": [
       "0"
      ]
     },
     "execution_count": 14,
     "metadata": {},
     "output_type": "execute_result"
    }
   ],
   "source": [
    "pivotIndex([2,1,-1])"
   ]
  },
  {
   "cell_type": "code",
   "execution_count": null,
   "id": "44de8a6a",
   "metadata": {},
   "outputs": [],
   "source": []
  }
 ],
 "metadata": {
  "kernelspec": {
   "display_name": "Python 3",
   "language": "python",
   "name": "python3"
  },
  "language_info": {
   "codemirror_mode": {
    "name": "ipython",
    "version": 3
   },
   "file_extension": ".py",
   "mimetype": "text/x-python",
   "name": "python",
   "nbconvert_exporter": "python",
   "pygments_lexer": "ipython3",
   "version": "3.8.8"
  }
 },
 "nbformat": 4,
 "nbformat_minor": 5
}
