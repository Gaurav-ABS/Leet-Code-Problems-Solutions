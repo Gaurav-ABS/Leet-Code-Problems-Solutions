{
 "cells": [
  {
   "cell_type": "code",
   "execution_count": 22,
   "id": "3819efd9",
   "metadata": {},
   "outputs": [],
   "source": [
    "# brute force method O(n2)\n",
    "\n",
    "def sumEqualsK(nums, k):\n",
    "    \n",
    "    count = 0 \n",
    "    \n",
    "    \n",
    "    for i in range(len(nums)):\n",
    "   \n",
    "        subarrayTotal = 0\n",
    "        \n",
    "        for j in range(i,len(nums)):\n",
    "            subarrayTotal = subarrayTotal + nums[j]\n",
    "            if subarrayTotal == k:\n",
    "                count = count + 1\n",
    "            \n",
    "            \n",
    "    return (count)\n",
    "    "
   ]
  },
  {
   "cell_type": "code",
   "execution_count": 23,
   "id": "5d59a261",
   "metadata": {},
   "outputs": [
    {
     "data": {
      "text/plain": [
       "2"
      ]
     },
     "execution_count": 23,
     "metadata": {},
     "output_type": "execute_result"
    }
   ],
   "source": [
    "sumEqualsK([1,1,1],2)"
   ]
  },
  {
   "cell_type": "code",
   "execution_count": 24,
   "id": "f27ccaa7",
   "metadata": {},
   "outputs": [
    {
     "data": {
      "text/plain": [
       "2"
      ]
     },
     "execution_count": 24,
     "metadata": {},
     "output_type": "execute_result"
    }
   ],
   "source": [
    "sumEqualsK([1,2,3], 3)"
   ]
  },
  {
   "cell_type": "code",
   "execution_count": 32,
   "id": "95c0ed71",
   "metadata": {},
   "outputs": [],
   "source": [
    "# optimised method O(n)\n",
    "\n",
    "def sumEqualsK(nums,k):\n",
    "    prefixSum ={0:1}\n",
    "    currentSum = 0\n",
    "    result = 0 \n",
    "    \n",
    "    \n",
    "    for i in range(len(nums)):\n",
    "        \n",
    "        currentSum = currentSum + nums[i]\n",
    "        diff = currentSum - k\n",
    "            \n",
    "        if diff in prefixSum:\n",
    "            result = result + prefixSum[diff]\n",
    "            \n",
    "        if currentSum in prefixSum:\n",
    "            prefixSum[(currentSum)] = prefixSum[(currentSum)] + 1\n",
    "        else:\n",
    "            prefixSum[(currentSum)] = 1\n",
    "            \n",
    "    \n",
    "    return result\n",
    "            \n",
    "        \n",
    "        "
   ]
  },
  {
   "cell_type": "code",
   "execution_count": 51,
   "id": "219aafa8",
   "metadata": {},
   "outputs": [
    {
     "data": {
      "text/plain": [
       "4"
      ]
     },
     "execution_count": 51,
     "metadata": {},
     "output_type": "execute_result"
    }
   ],
   "source": [
    "sumEqualsK([1,2,3,4,1,2,5,7],7)"
   ]
  },
  {
   "cell_type": "code",
   "execution_count": 45,
   "id": "ffba865f",
   "metadata": {},
   "outputs": [
    {
     "data": {
      "text/plain": [
       "2"
      ]
     },
     "execution_count": 45,
     "metadata": {},
     "output_type": "execute_result"
    }
   ],
   "source": [
    "sumEqualsK([1,1,1],2)"
   ]
  },
  {
   "cell_type": "code",
   "execution_count": 46,
   "id": "b44b76f3",
   "metadata": {},
   "outputs": [
    {
     "data": {
      "text/plain": [
       "2"
      ]
     },
     "execution_count": 46,
     "metadata": {},
     "output_type": "execute_result"
    }
   ],
   "source": [
    "sumEqualsK([1,2,3] , 3)"
   ]
  },
  {
   "cell_type": "code",
   "execution_count": 52,
   "id": "e03aa86a",
   "metadata": {},
   "outputs": [],
   "source": [
    "# optimised method O(n)\n",
    "\n",
    "# same algo implementation as above but using the get method for dicitonary / eliminates the if statements\n",
    "\n",
    "def sumEqualsK(nums,k):\n",
    "    prefixSum ={0:1}\n",
    "    currentSum = 0\n",
    "    result = 0 \n",
    "    \n",
    "    \n",
    "    for i in range(len(nums)):\n",
    "        \n",
    "        currentSum = currentSum + nums[i]\n",
    "        diff = currentSum - k\n",
    "            \n",
    "        \n",
    "        result = result + prefixSum.get (diff,0)\n",
    "        \n",
    "        prefixSum[(currentSum)] = prefixSum.get(currentSum,0) + 1  \n",
    "    \n",
    "    return result\n",
    "            \n",
    "        \n",
    "        "
   ]
  },
  {
   "cell_type": "code",
   "execution_count": 53,
   "id": "c9a58d8b",
   "metadata": {},
   "outputs": [
    {
     "data": {
      "text/plain": [
       "4"
      ]
     },
     "execution_count": 53,
     "metadata": {},
     "output_type": "execute_result"
    }
   ],
   "source": [
    "sumEqualsK([1,2,3,4,1,2,5,7],7)"
   ]
  },
  {
   "cell_type": "code",
   "execution_count": null,
   "id": "f4aa5b6c",
   "metadata": {},
   "outputs": [],
   "source": []
  }
 ],
 "metadata": {
  "kernelspec": {
   "display_name": "Python 3",
   "language": "python",
   "name": "python3"
  },
  "language_info": {
   "codemirror_mode": {
    "name": "ipython",
    "version": 3
   },
   "file_extension": ".py",
   "mimetype": "text/x-python",
   "name": "python",
   "nbconvert_exporter": "python",
   "pygments_lexer": "ipython3",
   "version": "3.8.8"
  }
 },
 "nbformat": 4,
 "nbformat_minor": 5
}
