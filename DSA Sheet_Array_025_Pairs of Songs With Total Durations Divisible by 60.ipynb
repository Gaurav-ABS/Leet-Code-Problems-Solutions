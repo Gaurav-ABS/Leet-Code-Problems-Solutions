{
 "cells": [
  {
   "cell_type": "code",
   "execution_count": 1,
   "id": "1770fe18",
   "metadata": {},
   "outputs": [],
   "source": [
    "#brute force\n",
    "\n",
    "def numPairsDivisibleBy60(time):\n",
    "    countOfPairs=0\n",
    "    for i in range(len(time)):\n",
    "        for j in range (i+1, len(time)):\n",
    "            if (time[i]+time[j])%60 == 0:\n",
    "                print (time[i] , '  ',time[j])\n",
    "                countOfPairs = countOfPairs +1\n",
    "                print(countOfPairs)\n",
    "    return(countOfPairs)\n",
    "                \n",
    "                \n",
    "                \n",
    "            "
   ]
  },
  {
   "cell_type": "code",
   "execution_count": 2,
   "id": "8c2f108b",
   "metadata": {},
   "outputs": [
    {
     "name": "stdout",
     "output_type": "stream",
     "text": [
      "30    150\n",
      "1\n",
      "20    100\n",
      "2\n",
      "20    40\n",
      "3\n"
     ]
    },
    {
     "data": {
      "text/plain": [
       "3"
      ]
     },
     "execution_count": 2,
     "metadata": {},
     "output_type": "execute_result"
    }
   ],
   "source": [
    "numPairsDivisibleBy60([30,20,150,100,40])"
   ]
  },
  {
   "cell_type": "code",
   "execution_count": 16,
   "id": "e58d3c96",
   "metadata": {},
   "outputs": [],
   "source": [
    "# implementing hashmap using dictionary\n",
    "\n",
    "def numPairsDivisibleBy60(time):\n",
    "    countOfPairs=0\n",
    "    countOfRemainders=dict()\n",
    "\n",
    "    \n",
    "    for i in range(len(time)):\n",
    "        remainder=(time[i]%60)\n",
    "        \n",
    "        if remainder == 0:\n",
    "            if remainder in countOfRemainders:\n",
    "                countOfPairs = countOfPairs + countOfRemainders[0]\n",
    "        elif (60-remainder) in countOfRemainders: \n",
    "            countOfPairs = countOfPairs + countOfRemainders[(60-remainder)]\n",
    "            \n",
    "        if remainder in countOfRemainders :\n",
    "            countOfRemainders[remainder] = countOfRemainders[remainder] + 1\n",
    "            print(countOfRemainders)\n",
    "        else:\n",
    "            countOfRemainders[remainder] = 1\n",
    "            print(countOfRemainders)\n",
    "    print(\"FINAL\", countOfRemainders)\n",
    "    return(countOfPairs)\n",
    "        \n",
    "        \n",
    "        \n",
    "            \n",
    "        "
   ]
  },
  {
   "cell_type": "code",
   "execution_count": 17,
   "id": "d54e59bd",
   "metadata": {},
   "outputs": [
    {
     "name": "stdout",
     "output_type": "stream",
     "text": [
      "{30: 1}\n",
      "{30: 1, 20: 1}\n",
      "{30: 2, 20: 1}\n",
      "{30: 2, 20: 1, 40: 1}\n",
      "{30: 2, 20: 1, 40: 2}\n",
      "FINAL {30: 2, 20: 1, 40: 2}\n"
     ]
    },
    {
     "data": {
      "text/plain": [
       "3"
      ]
     },
     "execution_count": 17,
     "metadata": {},
     "output_type": "execute_result"
    }
   ],
   "source": [
    "numPairsDivisibleBy60([30,20,150,100,40])"
   ]
  },
  {
   "cell_type": "code",
   "execution_count": 18,
   "id": "09dd7abd",
   "metadata": {},
   "outputs": [
    {
     "name": "stdout",
     "output_type": "stream",
     "text": [
      "{0: 1}\n",
      "{0: 2}\n",
      "{0: 3}\n",
      "FINAL {0: 3}\n"
     ]
    },
    {
     "data": {
      "text/plain": [
       "3"
      ]
     },
     "execution_count": 18,
     "metadata": {},
     "output_type": "execute_result"
    }
   ],
   "source": [
    "numPairsDivisibleBy60([60,60,60])\n"
   ]
  },
  {
   "cell_type": "code",
   "execution_count": null,
   "id": "d5d3e56d",
   "metadata": {},
   "outputs": [],
   "source": []
  }
 ],
 "metadata": {
  "kernelspec": {
   "display_name": "Python 3",
   "language": "python",
   "name": "python3"
  },
  "language_info": {
   "codemirror_mode": {
    "name": "ipython",
    "version": 3
   },
   "file_extension": ".py",
   "mimetype": "text/x-python",
   "name": "python",
   "nbconvert_exporter": "python",
   "pygments_lexer": "ipython3",
   "version": "3.8.8"
  }
 },
 "nbformat": 4,
 "nbformat_minor": 5
}
