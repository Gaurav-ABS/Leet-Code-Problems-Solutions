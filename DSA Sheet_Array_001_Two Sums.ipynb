{
 "cells": [
  {
   "cell_type": "code",
   "execution_count": 7,
   "id": "a25cd956",
   "metadata": {},
   "outputs": [],
   "source": [
    "def twoSum(nums,target):\n",
    "    \n",
    "    d=dict()\n",
    "    \n",
    "    for i in range(len(nums)):\n",
    "        d[nums[i]]=i\n",
    "        complement = target - nums[i]\n",
    "        if complement in d:\n",
    "            result=[i,d[complement]]\n",
    "            return result\n",
    "        "
   ]
  },
  {
   "cell_type": "code",
   "execution_count": 8,
   "id": "35106219",
   "metadata": {},
   "outputs": [
    {
     "data": {
      "text/plain": [
       "[3, 0]"
      ]
     },
     "execution_count": 8,
     "metadata": {},
     "output_type": "execute_result"
    }
   ],
   "source": [
    "twoSum([2,6,7,8,11,12] , 10)"
   ]
  },
  {
   "cell_type": "code",
   "execution_count": null,
   "id": "805b5de4",
   "metadata": {},
   "outputs": [],
   "source": []
  }
 ],
 "metadata": {
  "kernelspec": {
   "display_name": "Python 3",
   "language": "python",
   "name": "python3"
  },
  "language_info": {
   "codemirror_mode": {
    "name": "ipython",
    "version": 3
   },
   "file_extension": ".py",
   "mimetype": "text/x-python",
   "name": "python",
   "nbconvert_exporter": "python",
   "pygments_lexer": "ipython3",
   "version": "3.8.8"
  }
 },
 "nbformat": 4,
 "nbformat_minor": 5
}
