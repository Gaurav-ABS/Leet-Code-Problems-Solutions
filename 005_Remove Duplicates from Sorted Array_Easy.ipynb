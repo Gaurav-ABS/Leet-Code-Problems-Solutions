{
 "cells": [
  {
   "cell_type": "markdown",
   "id": "3bc3a0eb",
   "metadata": {},
   "source": [
    "# Remove Duplicates from Sorted Array\n",
    "\n",
    "- Porblem description in Leet Code\n",
    "\n",
    "    <a href =\"https://leetcode.com/problems/remove-duplicates-from-sorted-array/\" > Remove Duplicates from Sorted Array </a>"
   ]
  },
  {
   "cell_type": "markdown",
   "id": "7454c4fb",
   "metadata": {},
   "source": [
    "- Method:"
   ]
  },
  {
   "cell_type": "code",
   "execution_count": 7,
   "id": "21abd721",
   "metadata": {},
   "outputs": [
    {
     "name": "stdout",
     "output_type": "stream",
     "text": [
      "[0, 1, 1, 2, 2, 3, 3, 3, 4, 4, 4, 4, 6, 6, 6, 7, 7, 7, 9]\n",
      "[0, 1, 2, 2, 2, 3, 3, 3, 4, 4, 4, 4, 6, 6, 6, 7, 7, 7, 9]\n",
      "[0, 1, 2, 3, 2, 3, 3, 3, 4, 4, 4, 4, 6, 6, 6, 7, 7, 7, 9]\n",
      "[0, 1, 2, 3, 4, 3, 3, 3, 4, 4, 4, 4, 6, 6, 6, 7, 7, 7, 9]\n",
      "[0, 1, 2, 3, 4, 6, 3, 3, 4, 4, 4, 4, 6, 6, 6, 7, 7, 7, 9]\n",
      "[0, 1, 2, 3, 4, 6, 7, 3, 4, 4, 4, 4, 6, 6, 6, 7, 7, 7, 9]\n",
      "[0, 1, 2, 3, 4, 6, 7, 9, 4, 4, 4, 4, 6, 6, 6, 7, 7, 7, 9]\n",
      "Number of unique elements:  8\n",
      "[0, 1, 2, 3, 4, 6, 7, 9, 4, 4, 4, 4, 6, 6, 6, 7, 7, 7, 9]\n"
     ]
    }
   ],
   "source": [
    "lst=[0,0,1,2,2,3,3,3,4,4,4,4,6,6,6,7,7,7,9]\n",
    "\n",
    "\n",
    "insertAt =1\n",
    "\n",
    "for i in range(1,len(lst)):\n",
    "    if lst[i] != lst [i-1]:\n",
    "        lst[insertAt]=lst[i]\n",
    "        print(lst)\n",
    "        insertAt = insertAt +1\n",
    "print('Number of unique elements: ', insertAt)\n",
    "print(lst)"
   ]
  },
  {
   "cell_type": "markdown",
   "id": "e4854bb7",
   "metadata": {},
   "source": [
    "- Method"
   ]
  },
  {
   "cell_type": "code",
   "execution_count": 10,
   "id": "b75bb666",
   "metadata": {},
   "outputs": [
    {
     "name": "stdout",
     "output_type": "stream",
     "text": [
      "i = 0\n",
      "lst[i] = 0\n",
      "lst[:i] = []\n",
      "i = 1\n",
      "lst[i] = 0\n",
      "lst[:i] = [0]\n",
      "[0, 1, 2, 2, 3, 3, 3, 4, 4, 4, 4, 6, 6, 6, 7, 7, 7, 9]\n",
      "i = 1\n",
      "lst[i] = 1\n",
      "lst[:i] = [0]\n",
      "i = 2\n",
      "lst[i] = 2\n",
      "lst[:i] = [0, 1]\n",
      "i = 3\n",
      "lst[i] = 2\n",
      "lst[:i] = [0, 1, 2]\n",
      "[0, 1, 2, 3, 3, 3, 4, 4, 4, 4, 6, 6, 6, 7, 7, 7, 9]\n",
      "i = 3\n",
      "lst[i] = 3\n",
      "lst[:i] = [0, 1, 2]\n",
      "i = 4\n",
      "lst[i] = 3\n",
      "lst[:i] = [0, 1, 2, 3]\n",
      "[0, 1, 2, 3, 3, 4, 4, 4, 4, 6, 6, 6, 7, 7, 7, 9]\n",
      "i = 4\n",
      "lst[i] = 3\n",
      "lst[:i] = [0, 1, 2, 3]\n",
      "[0, 1, 2, 3, 4, 4, 4, 4, 6, 6, 6, 7, 7, 7, 9]\n",
      "i = 4\n",
      "lst[i] = 4\n",
      "lst[:i] = [0, 1, 2, 3]\n",
      "i = 5\n",
      "lst[i] = 4\n",
      "lst[:i] = [0, 1, 2, 3, 4]\n",
      "[0, 1, 2, 3, 4, 4, 4, 6, 6, 6, 7, 7, 7, 9]\n",
      "i = 5\n",
      "lst[i] = 4\n",
      "lst[:i] = [0, 1, 2, 3, 4]\n",
      "[0, 1, 2, 3, 4, 4, 6, 6, 6, 7, 7, 7, 9]\n",
      "i = 5\n",
      "lst[i] = 4\n",
      "lst[:i] = [0, 1, 2, 3, 4]\n",
      "[0, 1, 2, 3, 4, 6, 6, 6, 7, 7, 7, 9]\n",
      "i = 5\n",
      "lst[i] = 6\n",
      "lst[:i] = [0, 1, 2, 3, 4]\n",
      "i = 6\n",
      "lst[i] = 6\n",
      "lst[:i] = [0, 1, 2, 3, 4, 6]\n",
      "[0, 1, 2, 3, 4, 6, 6, 7, 7, 7, 9]\n",
      "i = 6\n",
      "lst[i] = 6\n",
      "lst[:i] = [0, 1, 2, 3, 4, 6]\n",
      "[0, 1, 2, 3, 4, 6, 7, 7, 7, 9]\n",
      "i = 6\n",
      "lst[i] = 7\n",
      "lst[:i] = [0, 1, 2, 3, 4, 6]\n",
      "i = 7\n",
      "lst[i] = 7\n",
      "lst[:i] = [0, 1, 2, 3, 4, 6, 7]\n",
      "[0, 1, 2, 3, 4, 6, 7, 7, 9]\n",
      "i = 7\n",
      "lst[i] = 7\n",
      "lst[:i] = [0, 1, 2, 3, 4, 6, 7]\n",
      "[0, 1, 2, 3, 4, 6, 7, 9]\n",
      "i = 7\n",
      "lst[i] = 9\n",
      "lst[:i] = [0, 1, 2, 3, 4, 6, 7]\n"
     ]
    }
   ],
   "source": [
    "lst=[0,0,1,2,2,3,3,3,4,4,4,4,6,6,6,7,7,7,9]\n",
    "    \n",
    "i = 0\n",
    "while i < len(lst):\n",
    "    print('i =',i)\n",
    "    print('lst[i] =',lst[i])\n",
    "    print('lst[:i] =',lst[:i])\n",
    "    if lst[i] in lst[:i]:\n",
    "        del lst[i]\n",
    "        print(lst)\n",
    "    else:\n",
    "        i += 1"
   ]
  },
  {
   "cell_type": "code",
   "execution_count": null,
   "id": "c17bdfe1",
   "metadata": {},
   "outputs": [],
   "source": []
  }
 ],
 "metadata": {
  "kernelspec": {
   "display_name": "Python 3",
   "language": "python",
   "name": "python3"
  },
  "language_info": {
   "codemirror_mode": {
    "name": "ipython",
    "version": 3
   },
   "file_extension": ".py",
   "mimetype": "text/x-python",
   "name": "python",
   "nbconvert_exporter": "python",
   "pygments_lexer": "ipython3",
   "version": "3.8.8"
  }
 },
 "nbformat": 4,
 "nbformat_minor": 5
}
