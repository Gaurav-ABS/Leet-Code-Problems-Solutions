{
 "cells": [
  {
   "cell_type": "code",
   "execution_count": 9,
   "id": "2418c8cf",
   "metadata": {},
   "outputs": [],
   "source": [
    "# brute force O(n2)\n",
    "\n",
    "def my_function(nums,k):\n",
    "    count = 0\n",
    "    \n",
    "    for i in range(len(nums)):\n",
    "        \n",
    "        sub_array_total = 0\n",
    "        \n",
    "        for j in range(i,len(nums)):\n",
    "            sub_array_total += nums[j]\n",
    "            if sub_array_total%k == 0:\n",
    "                count += 1\n",
    "    return (count)"
   ]
  },
  {
   "cell_type": "code",
   "execution_count": 10,
   "id": "0cf8c37a",
   "metadata": {},
   "outputs": [
    {
     "data": {
      "text/plain": [
       "7"
      ]
     },
     "execution_count": 10,
     "metadata": {},
     "output_type": "execute_result"
    }
   ],
   "source": [
    "my_function([4,5,0,-2,-3,1],5)"
   ]
  },
  {
   "cell_type": "code",
   "execution_count": 11,
   "id": "ee545bbc",
   "metadata": {},
   "outputs": [
    {
     "data": {
      "text/plain": [
       "0"
      ]
     },
     "execution_count": 11,
     "metadata": {},
     "output_type": "execute_result"
    }
   ],
   "source": [
    "my_function([5],9)"
   ]
  },
  {
   "cell_type": "code",
   "execution_count": 13,
   "id": "b4cc4164",
   "metadata": {},
   "outputs": [
    {
     "data": {
      "text/plain": [
       "21"
      ]
     },
     "execution_count": 13,
     "metadata": {},
     "output_type": "execute_result"
    }
   ],
   "source": [
    "my_function([4,5,0,-2,-3,1],1)"
   ]
  },
  {
   "cell_type": "code",
   "execution_count": 14,
   "id": "a39b6190",
   "metadata": {},
   "outputs": [],
   "source": [
    "# optimised method O(n)\n",
    "# https://www.youtube.com/watch?v=iABMUwDN6L0\n",
    "\n",
    "def my_function(nums,k):\n",
    "    prefixRemainder ={0:1} # {remainder:count of values that have this remainder}\n",
    "    # intial current sum is zero so we include a zero. which will mean that if a new subarray has a remainder zero it \n",
    "    # should increment result by 1\n",
    "    currentSumSubArray = 0\n",
    "    result = 0 \n",
    "    \n",
    "    \n",
    "    for i in range(len(nums)):\n",
    "        \n",
    "        print(\"_________________________________________\")\n",
    "        \n",
    "        currentSumSubArray = currentSumSubArray + nums[i]\n",
    "        print(\"currentSumSubArray : \",currentSumSubArray)\n",
    "        key = currentSumSubArray %  k # remainder is the key (say 4)\n",
    "        print(\"current remainder is the key : \",key)   \n",
    "        \n",
    "        if key in prefixRemainder:\n",
    "            result = result + prefixRemainder[key]\n",
    "            \n",
    "            # here we are saying that if remainder of the current sum is say again 4\n",
    "            # and we already have had remainder 4 already before , then we think of the subarray\n",
    "            # removing the previous subarrray corresponding to 4, we should have a subarray which \n",
    "            # is divisible by k \n",
    "            # thus all subarray that were added to the such previous subarrays and which correspond to same remiander 4 as befeore actually correspond\n",
    "            # to a solution\n",
    "            \n",
    "            # intial current sum is zero so we include a zero. which will mean that if a new subarray has a remainder zero it \n",
    "            # should increment result by 1\n",
    "        if key in prefixRemainder:\n",
    "            print (\"key is present. Incremented by 1\")\n",
    "            prefixRemainder[(key)] = prefixRemainder[(key)] + 1\n",
    "    \n",
    "        else:\n",
    "            print(\"key not present. Initiated to 1\")\n",
    "            prefixRemainder[(key)] = 1\n",
    "            \n",
    "            print (prefixRemainder)\n",
    "            \n",
    "        print(\"result : \", result)\n",
    "    return result\n",
    "            \n",
    "        \n",
    "        "
   ]
  },
  {
   "cell_type": "code",
   "execution_count": 15,
   "id": "8092a3fa",
   "metadata": {},
   "outputs": [
    {
     "name": "stdout",
     "output_type": "stream",
     "text": [
      "_________________________________________\n",
      "currentSumSubArray :  4\n",
      "current remainder is the key :  4\n",
      "key not present. Initiated to 1\n",
      "{0: 1, 4: 1}\n",
      "result :  0\n",
      "_________________________________________\n",
      "currentSumSubArray :  9\n",
      "current remainder is the key :  4\n",
      "key is present. Incremented by 1\n",
      "result :  1\n",
      "_________________________________________\n",
      "currentSumSubArray :  9\n",
      "current remainder is the key :  4\n",
      "key is present. Incremented by 1\n",
      "result :  3\n",
      "_________________________________________\n",
      "currentSumSubArray :  7\n",
      "current remainder is the key :  2\n",
      "key not present. Initiated to 1\n",
      "{0: 1, 4: 3, 2: 1}\n",
      "result :  3\n",
      "_________________________________________\n",
      "currentSumSubArray :  4\n",
      "current remainder is the key :  4\n",
      "key is present. Incremented by 1\n",
      "result :  6\n",
      "_________________________________________\n",
      "currentSumSubArray :  5\n",
      "current remainder is the key :  0\n",
      "key is present. Incremented by 1\n",
      "result :  7\n"
     ]
    },
    {
     "data": {
      "text/plain": [
       "7"
      ]
     },
     "execution_count": 15,
     "metadata": {},
     "output_type": "execute_result"
    }
   ],
   "source": [
    "my_function([4,5,0,-2,-3,1],5)"
   ]
  },
  {
   "cell_type": "code",
   "execution_count": 16,
   "id": "2f7d5149",
   "metadata": {},
   "outputs": [
    {
     "name": "stdout",
     "output_type": "stream",
     "text": [
      "_________________________________________\n",
      "currentSumSubArray :  4\n",
      "current remainder is the key :  4\n",
      "key not present. Initiated to 1\n",
      "{0: 1, 4: 1}\n",
      "result :  0\n"
     ]
    },
    {
     "data": {
      "text/plain": [
       "0"
      ]
     },
     "execution_count": 16,
     "metadata": {},
     "output_type": "execute_result"
    }
   ],
   "source": [
    "my_function([4],5)"
   ]
  },
  {
   "cell_type": "code",
   "execution_count": 7,
   "id": "1cd49596",
   "metadata": {},
   "outputs": [
    {
     "data": {
      "text/plain": [
       "0"
      ]
     },
     "execution_count": 7,
     "metadata": {},
     "output_type": "execute_result"
    }
   ],
   "source": [
    "my_function([4,4],5)"
   ]
  },
  {
   "cell_type": "code",
   "execution_count": 37,
   "id": "1ac93259",
   "metadata": {},
   "outputs": [],
   "source": [
    "# tried printing all the subarrys but seems a bit tricky\n",
    "# idea is to store the indices corresponding to a particular remainder, \n",
    "# then use it to slice the original array\n",
    "\n",
    "\n",
    "# optimised method O(n)\n",
    "# https://www.youtube.com/watch?v=iABMUwDN6L0\n",
    "\n",
    "def my_function(nums,k):\n",
    "    prefixRemainder ={0:1} # {remainder:count of values that have this remainder}\n",
    "    # intial current sum is zero so we include a zero. which will mean that if a new subarray has a remainder zero it \n",
    "    # should increment result by 1\n",
    "    currentSumSubArray = 0\n",
    "    count_result = 0 \n",
    "    subarray_indices = {0:[0]}\n",
    "    result_subarrays = list()\n",
    "    \n",
    "    \n",
    "    for i in range(len(nums)):\n",
    "        \n",
    "        print(\"_________________________________________\")\n",
    "        \n",
    "        currentSumSubArray = currentSumSubArray + nums[i]\n",
    "        print(\"currentSumSubArray : \",currentSumSubArray)\n",
    "        key = currentSumSubArray %  k # remainder is the key (say 4)\n",
    "        print(\"current remainder is the key : \",key)   \n",
    "        \n",
    "        if key in prefixRemainder:\n",
    "            count_result = count_result + prefixRemainder[key]\n",
    "            \n",
    "        if key in prefixRemainder:\n",
    "            print (\"key is present. Incremented by 1\")\n",
    "            prefixRemainder[(key)] = prefixRemainder[(key)] + 1\n",
    "            \n",
    "            subarray_indices[key].append(i)\n",
    "    \n",
    "        else:\n",
    "            print(\"key not present. Initiated to 1\")\n",
    "            prefixRemainder[(key)] = 1\n",
    "            \n",
    "            subarray_indices[key] = [i]\n",
    "            \n",
    "        print (prefixRemainder)\n",
    "        print (subarray_indices)\n",
    "    \n",
    "        \n",
    "        \n",
    "    print(\"count_result : \", count_result)\n",
    "    return count_result\n",
    "            \n",
    "        \n",
    "        "
   ]
  },
  {
   "cell_type": "code",
   "execution_count": 38,
   "id": "207f01c3",
   "metadata": {},
   "outputs": [
    {
     "name": "stdout",
     "output_type": "stream",
     "text": [
      "_________________________________________\n",
      "currentSumSubArray :  4\n",
      "current remainder is the key :  4\n",
      "key not present. Initiated to 1\n",
      "{0: 1, 4: 1}\n",
      "{0: [0], 4: [0]}\n",
      "_________________________________________\n",
      "currentSumSubArray :  9\n",
      "current remainder is the key :  4\n",
      "key is present. Incremented by 1\n",
      "{0: 1, 4: 2}\n",
      "{0: [0], 4: [0, 1]}\n",
      "_________________________________________\n",
      "currentSumSubArray :  9\n",
      "current remainder is the key :  4\n",
      "key is present. Incremented by 1\n",
      "{0: 1, 4: 3}\n",
      "{0: [0], 4: [0, 1, 2]}\n",
      "_________________________________________\n",
      "currentSumSubArray :  7\n",
      "current remainder is the key :  2\n",
      "key not present. Initiated to 1\n",
      "{0: 1, 4: 3, 2: 1}\n",
      "{0: [0], 4: [0, 1, 2], 2: [3]}\n",
      "_________________________________________\n",
      "currentSumSubArray :  4\n",
      "current remainder is the key :  4\n",
      "key is present. Incremented by 1\n",
      "{0: 1, 4: 4, 2: 1}\n",
      "{0: [0], 4: [0, 1, 2, 4], 2: [3]}\n",
      "_________________________________________\n",
      "currentSumSubArray :  5\n",
      "current remainder is the key :  0\n",
      "key is present. Incremented by 1\n",
      "{0: 2, 4: 4, 2: 1}\n",
      "{0: [0, 5], 4: [0, 1, 2, 4], 2: [3]}\n",
      "count_result :  7\n"
     ]
    },
    {
     "data": {
      "text/plain": [
       "7"
      ]
     },
     "execution_count": 38,
     "metadata": {},
     "output_type": "execute_result"
    }
   ],
   "source": [
    "my_function([4,5,0,-2,-3,1],5)"
   ]
  },
  {
   "cell_type": "code",
   "execution_count": null,
   "id": "4351fc47",
   "metadata": {},
   "outputs": [],
   "source": []
  }
 ],
 "metadata": {
  "kernelspec": {
   "display_name": "Python 3 (ipykernel)",
   "language": "python",
   "name": "python3"
  },
  "language_info": {
   "codemirror_mode": {
    "name": "ipython",
    "version": 3
   },
   "file_extension": ".py",
   "mimetype": "text/x-python",
   "name": "python",
   "nbconvert_exporter": "python",
   "pygments_lexer": "ipython3",
   "version": "3.7.0"
  }
 },
 "nbformat": 4,
 "nbformat_minor": 5
}
