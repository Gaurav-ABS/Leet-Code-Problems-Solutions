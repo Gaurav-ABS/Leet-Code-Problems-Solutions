{
 "cells": [
  {
   "cell_type": "markdown",
   "id": "8c69bf50",
   "metadata": {},
   "source": [
    "# Implement strStr()\n",
    "\n",
    "- Problem Description on Leetcode\n",
    "\n",
    "  <a href =\"https://leetcode.com/problems/implement-strstr/\" > Implement-strstr </a>"
   ]
  },
  {
   "cell_type": "markdown",
   "id": "00f9c739",
   "metadata": {},
   "source": [
    "- Method:"
   ]
  },
  {
   "cell_type": "code",
   "execution_count": 24,
   "id": "46bc6140",
   "metadata": {},
   "outputs": [
    {
     "name": "stdout",
     "output_type": "stream",
     "text": [
      "needle ===== do\n",
      "haystack etraction===== do\n",
      "7\n"
     ]
    }
   ],
   "source": [
    "# What is called as a Sliding Window  approach\n",
    "    \n",
    "needle ='do'\n",
    "haystack ='we can do it yes'\n",
    "\n",
    "result= 0\n",
    "\n",
    "if needle.isspace():\n",
    "    print (result)\n",
    "\n",
    "else:\n",
    "    for i in range(len(haystack)):\n",
    "        \n",
    "        if (haystack[i:i + len(needle)] == needle):\n",
    "            \n",
    "            print('needle =====',needle)\n",
    "            print('haystack etraction=====',haystack[i:i + len(needle)])\n",
    "            \n",
    "            result = i\n",
    "            break\n",
    "            \n",
    "        else:\n",
    "            result = -1\n",
    "            \n",
    "print(result)"
   ]
  },
  {
   "cell_type": "code",
   "execution_count": null,
   "id": "4ec9b455",
   "metadata": {},
   "outputs": [],
   "source": []
  },
  {
   "cell_type": "code",
   "execution_count": null,
   "id": "893aed99",
   "metadata": {},
   "outputs": [],
   "source": []
  }
 ],
 "metadata": {
  "kernelspec": {
   "display_name": "Python 3",
   "language": "python",
   "name": "python3"
  },
  "language_info": {
   "codemirror_mode": {
    "name": "ipython",
    "version": 3
   },
   "file_extension": ".py",
   "mimetype": "text/x-python",
   "name": "python",
   "nbconvert_exporter": "python",
   "pygments_lexer": "ipython3",
   "version": "3.8.8"
  }
 },
 "nbformat": 4,
 "nbformat_minor": 5
}
