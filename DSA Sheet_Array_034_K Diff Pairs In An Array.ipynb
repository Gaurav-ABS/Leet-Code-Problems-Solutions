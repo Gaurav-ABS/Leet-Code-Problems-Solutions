{
 "cells": [
  {
   "cell_type": "code",
   "execution_count": 35,
   "id": "75d37aee",
   "metadata": {},
   "outputs": [],
   "source": [
    "# appears simillar to two sum problem \n",
    "# but a lot is different here\n",
    "\n",
    "def findPairs (nums,k):\n",
    "    print(nums)\n",
    "    seen = dict()\n",
    "    count = 0\n",
    "    \n",
    "    #creating the hash map\n",
    "    for i in range(len(nums)):\n",
    "        if  (nums[i]) in seen:\n",
    "            seen[nums[i]] = seen[nums[i]] + 1\n",
    "        else:\n",
    "            seen[nums[i]] = 1\n",
    "            \n",
    "    print(seen.items())\n",
    "            \n",
    "    # iterating the key value pairs of the hash map to find the pairs\n",
    "    if k<0:\n",
    "        count = 0\n",
    "        \n",
    "    elif k==0:\n",
    "        for key,value in seen.items():\n",
    "            if value>1:\n",
    "                count += 1\n",
    "    else:\n",
    "        for key,value in seen.items():\n",
    "            if key+k in seen:\n",
    "                print ('pairs:',key,key+k)\n",
    "                count += 1\n",
    "                   \n",
    "\n",
    "    return(count)\n",
    "            \n",
    "            "
   ]
  },
  {
   "cell_type": "code",
   "execution_count": 36,
   "id": "cc2c3a0c",
   "metadata": {},
   "outputs": [
    {
     "name": "stdout",
     "output_type": "stream",
     "text": [
      "[3, 1, 4, 1, 5]\n",
      "dict_items([(3, 1), (1, 2), (4, 1), (5, 1)])\n",
      "pairs: 3 5\n",
      "pairs: 1 3\n"
     ]
    },
    {
     "data": {
      "text/plain": [
       "2"
      ]
     },
     "execution_count": 36,
     "metadata": {},
     "output_type": "execute_result"
    }
   ],
   "source": [
    "findPairs([3,1,4,1,5],2)"
   ]
  },
  {
   "cell_type": "code",
   "execution_count": 37,
   "id": "577c5a13",
   "metadata": {},
   "outputs": [
    {
     "name": "stdout",
     "output_type": "stream",
     "text": [
      "[1, 2, 3, 4, 5]\n",
      "dict_items([(1, 1), (2, 1), (3, 1), (4, 1), (5, 1)])\n",
      "pairs: 1 2\n",
      "pairs: 2 3\n",
      "pairs: 3 4\n",
      "pairs: 4 5\n"
     ]
    },
    {
     "data": {
      "text/plain": [
       "4"
      ]
     },
     "execution_count": 37,
     "metadata": {},
     "output_type": "execute_result"
    }
   ],
   "source": [
    "findPairs([1,2,3,4,5],1)"
   ]
  },
  {
   "cell_type": "code",
   "execution_count": 38,
   "id": "319c30d2",
   "metadata": {},
   "outputs": [
    {
     "name": "stdout",
     "output_type": "stream",
     "text": [
      "[1, 2, 3, 4, 5, 6, 6]\n",
      "dict_items([(1, 1), (2, 1), (3, 1), (4, 1), (5, 1), (6, 2)])\n",
      "pairs: 1 4\n",
      "pairs: 2 5\n",
      "pairs: 3 6\n"
     ]
    },
    {
     "data": {
      "text/plain": [
       "3"
      ]
     },
     "execution_count": 38,
     "metadata": {},
     "output_type": "execute_result"
    }
   ],
   "source": [
    "findPairs([1,2,3,4,5,6,6],3)"
   ]
  },
  {
   "cell_type": "code",
   "execution_count": 39,
   "id": "38aeee45",
   "metadata": {},
   "outputs": [
    {
     "name": "stdout",
     "output_type": "stream",
     "text": [
      "[3, 1, 4, 1, 5]\n",
      "dict_items([(3, 1), (1, 2), (4, 1), (5, 1)])\n"
     ]
    },
    {
     "data": {
      "text/plain": [
       "1"
      ]
     },
     "execution_count": 39,
     "metadata": {},
     "output_type": "execute_result"
    }
   ],
   "source": [
    "findPairs([3,1,4,1,5],0)"
   ]
  },
  {
   "cell_type": "code",
   "execution_count": null,
   "id": "c88e4e59",
   "metadata": {},
   "outputs": [],
   "source": []
  }
 ],
 "metadata": {
  "kernelspec": {
   "display_name": "Python 3",
   "language": "python",
   "name": "python3"
  },
  "language_info": {
   "codemirror_mode": {
    "name": "ipython",
    "version": 3
   },
   "file_extension": ".py",
   "mimetype": "text/x-python",
   "name": "python",
   "nbconvert_exporter": "python",
   "pygments_lexer": "ipython3",
   "version": "3.8.8"
  }
 },
 "nbformat": 4,
 "nbformat_minor": 5
}
