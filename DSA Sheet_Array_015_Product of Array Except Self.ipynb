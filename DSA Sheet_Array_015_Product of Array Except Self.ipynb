{
 "cells": [
  {
   "cell_type": "code",
   "execution_count": 17,
   "id": "0bea7b8d",
   "metadata": {},
   "outputs": [],
   "source": [
    "def product(nums):\n",
    "    \n",
    "    ans = [0]*len(nums)\n",
    "    \n",
    "    # storing left product in the list ans\n",
    "    leftProduct = 1\n",
    "    i=0\n",
    "    \n",
    "    while i < len(nums):\n",
    "        ans[i] = leftProduct\n",
    "        leftProduct=leftProduct*nums[i]\n",
    "        i = i+1\n",
    "        \n",
    "    # multiplying right product in the list ans\n",
    "    rightProduct =1\n",
    "    i= len(nums) - 1\n",
    "    \n",
    "    while i >=0 :\n",
    "        ans[i] = ans[i] * rightProduct\n",
    "        rightProduct = rightProduct*nums[i]\n",
    "        i = i -1\n",
    "        \n",
    "    return ans\n",
    "        "
   ]
  },
  {
   "cell_type": "code",
   "execution_count": 18,
   "id": "0ca8b416",
   "metadata": {},
   "outputs": [
    {
     "data": {
      "text/plain": [
       "[24, 12, 8, 6]"
      ]
     },
     "execution_count": 18,
     "metadata": {},
     "output_type": "execute_result"
    }
   ],
   "source": [
    "product([1,2,3,4])"
   ]
  },
  {
   "cell_type": "code",
   "execution_count": 19,
   "id": "8b7af285",
   "metadata": {},
   "outputs": [
    {
     "data": {
      "text/plain": [
       "[0, 0, 9, 0, 0]"
      ]
     },
     "execution_count": 19,
     "metadata": {},
     "output_type": "execute_result"
    }
   ],
   "source": [
    "product([-1,1,0,-3,3])"
   ]
  },
  {
   "cell_type": "code",
   "execution_count": null,
   "id": "311ac0ae",
   "metadata": {},
   "outputs": [],
   "source": []
  }
 ],
 "metadata": {
  "kernelspec": {
   "display_name": "Python 3",
   "language": "python",
   "name": "python3"
  },
  "language_info": {
   "codemirror_mode": {
    "name": "ipython",
    "version": 3
   },
   "file_extension": ".py",
   "mimetype": "text/x-python",
   "name": "python",
   "nbconvert_exporter": "python",
   "pygments_lexer": "ipython3",
   "version": "3.8.8"
  }
 },
 "nbformat": 4,
 "nbformat_minor": 5
}
